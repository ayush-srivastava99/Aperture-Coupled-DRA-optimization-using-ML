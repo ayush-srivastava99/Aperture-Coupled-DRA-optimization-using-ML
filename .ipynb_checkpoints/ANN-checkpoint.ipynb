{
 "cells": [
  {
   "cell_type": "code",
   "execution_count": 1,
   "id": "0cfc5995",
   "metadata": {},
   "outputs": [],
   "source": [
    "import pandas as pd\n",
    "from sklearn.model_selection import train_test_split\n",
    "import keras\n",
    "from keras.models import Sequential\n",
    "from keras.layers import Dense"
   ]
  },
  {
   "cell_type": "code",
   "execution_count": 2,
   "id": "4ce216f8",
   "metadata": {},
   "outputs": [],
   "source": [
    "dataset = pd.read_csv('apdra_dataset.csv')\n",
    "\n",
    "x = pd.DataFrame(dataset.iloc[:, 0:4].values)\n",
    "y = dataset.iloc[:, 4].values"
   ]
  },
  {
   "cell_type": "code",
   "execution_count": 3,
   "id": "3742312a",
   "metadata": {},
   "outputs": [
    {
     "data": {
      "text/plain": [
       "array([ -2.42825392,  -2.44558783,  -2.46314531, ..., -11.09366126,\n",
       "       -11.17339185, -11.25663501])"
      ]
     },
     "execution_count": 3,
     "metadata": {},
     "output_type": "execute_result"
    }
   ],
   "source": [
    "y"
   ]
  },
  {
   "cell_type": "code",
   "execution_count": 4,
   "id": "1ca1c041",
   "metadata": {},
   "outputs": [],
   "source": [
    "x_train, x_test, y_train, y_test = train_test_split(x, y, test_size = 0.3, random_state = 123)"
   ]
  },
  {
   "cell_type": "code",
   "execution_count": 5,
   "id": "fdbc0ad9",
   "metadata": {},
   "outputs": [],
   "source": [
    "# Artificial NN\n",
    "\n",
    "classifier = Sequential()\n",
    "\n",
    "# Input Layer\n",
    "classifier.add(Dense(units = 6, activation = 'relu', input_dim = 4))\n",
    "\n",
    "# 1st Hidden Layer\n",
    "classifier.add(Dense(units = 8, activation = 'relu'))\n",
    "\n",
    "# 2nd Hidden Layer\n",
    "classifier.add(Dense(units = 3, activation = 'relu'))\n",
    "\n",
    "# Output Layer\n",
    "classifier.add(Dense(units = 1, activation = 'linear'))"
   ]
  },
  {
   "cell_type": "code",
   "execution_count": 6,
   "id": "673d972a",
   "metadata": {},
   "outputs": [
    {
     "name": "stdout",
     "output_type": "stream",
     "text": [
      "Epoch 1/100\n",
      "10261/10261 [==============================] - 16s 2ms/step - loss: 27.4123 - accuracy: 0.0000e+00 - val_loss: 22.3004 - val_accuracy: 0.0000e+00\n",
      "Epoch 2/100\n",
      "10261/10261 [==============================] - 215s 21ms/step - loss: 21.7167 - accuracy: 0.0000e+00 - val_loss: 20.9424 - val_accuracy: 0.0000e+00\n",
      "Epoch 3/100\n",
      "10261/10261 [==============================] - 16s 2ms/step - loss: 20.6084 - accuracy: 0.0000e+00 - val_loss: 20.0167 - val_accuracy: 0.0000e+00\n",
      "Epoch 4/100\n",
      "10261/10261 [==============================] - 17s 2ms/step - loss: 19.4935 - accuracy: 0.0000e+00 - val_loss: 20.1348 - val_accuracy: 0.0000e+00\n",
      "Epoch 5/100\n",
      "10261/10261 [==============================] - 17s 2ms/step - loss: 18.5592 - accuracy: 0.0000e+00 - val_loss: 18.2805 - val_accuracy: 0.0000e+00\n",
      "Epoch 6/100\n",
      "10261/10261 [==============================] - 20s 2ms/step - loss: 17.5543 - accuracy: 0.0000e+00 - val_loss: 16.7170 - val_accuracy: 0.0000e+00\n",
      "Epoch 7/100\n",
      "10261/10261 [==============================] - 18s 2ms/step - loss: 16.1134 - accuracy: 0.0000e+00 - val_loss: 14.7539 - val_accuracy: 0.0000e+00\n",
      "Epoch 8/100\n",
      "10261/10261 [==============================] - 16s 2ms/step - loss: 13.5600 - accuracy: 0.0000e+00 - val_loss: 11.1715 - val_accuracy: 0.0000e+00\n",
      "Epoch 9/100\n",
      "10261/10261 [==============================] - 16s 2ms/step - loss: 9.2569 - accuracy: 0.0000e+00 - val_loss: 6.7681 - val_accuracy: 0.0000e+00\n",
      "Epoch 10/100\n",
      "10261/10261 [==============================] - 16s 2ms/step - loss: 6.2487 - accuracy: 0.0000e+00 - val_loss: 11.4489 - val_accuracy: 0.0000e+00\n",
      "Epoch 11/100\n",
      "10261/10261 [==============================] - 16s 2ms/step - loss: 5.2214 - accuracy: 0.0000e+00 - val_loss: 4.3928 - val_accuracy: 0.0000e+00\n",
      "Epoch 12/100\n",
      "10261/10261 [==============================] - 16s 2ms/step - loss: 4.8088 - accuracy: 0.0000e+00 - val_loss: 3.9287 - val_accuracy: 0.0000e+00\n",
      "Epoch 13/100\n",
      "10261/10261 [==============================] - 19s 2ms/step - loss: 4.6718 - accuracy: 0.0000e+00 - val_loss: 3.5269 - val_accuracy: 0.0000e+00\n",
      "Epoch 14/100\n",
      "10261/10261 [==============================] - 16s 2ms/step - loss: 4.5546 - accuracy: 0.0000e+00 - val_loss: 3.9160 - val_accuracy: 0.0000e+00\n",
      "Epoch 15/100\n",
      "10261/10261 [==============================] - 16s 2ms/step - loss: 4.6106 - accuracy: 0.0000e+00 - val_loss: 7.2400 - val_accuracy: 0.0000e+00\n",
      "Epoch 16/100\n",
      "10261/10261 [==============================] - 16s 2ms/step - loss: 4.4934 - accuracy: 0.0000e+00 - val_loss: 4.2294 - val_accuracy: 0.0000e+00\n",
      "Epoch 17/100\n",
      "10261/10261 [==============================] - 16s 2ms/step - loss: 4.5003 - accuracy: 0.0000e+00 - val_loss: 5.3200 - val_accuracy: 0.0000e+00\n",
      "Epoch 18/100\n",
      "10261/10261 [==============================] - 15s 1ms/step - loss: 4.3861 - accuracy: 0.0000e+00 - val_loss: 4.4601 - val_accuracy: 0.0000e+00\n",
      "Epoch 19/100\n",
      "10261/10261 [==============================] - 16s 2ms/step - loss: 4.2155 - accuracy: 0.0000e+00 - val_loss: 4.2766 - val_accuracy: 0.0000e+00\n",
      "Epoch 20/100\n",
      "10261/10261 [==============================] - 18s 2ms/step - loss: 4.3491 - accuracy: 0.0000e+00 - val_loss: 4.1338 - val_accuracy: 0.0000e+00\n",
      "Epoch 21/100\n",
      "10261/10261 [==============================] - 17s 2ms/step - loss: 4.1906 - accuracy: 0.0000e+00 - val_loss: 5.5905 - val_accuracy: 0.0000e+00\n",
      "Epoch 22/100\n",
      "10261/10261 [==============================] - 15s 2ms/step - loss: 4.2202 - accuracy: 0.0000e+00 - val_loss: 3.0358 - val_accuracy: 0.0000e+00\n",
      "Epoch 23/100\n",
      "10261/10261 [==============================] - 17s 2ms/step - loss: 4.2685 - accuracy: 0.0000e+00 - val_loss: 3.0046 - val_accuracy: 0.0000e+00\n",
      "Epoch 24/100\n",
      "10261/10261 [==============================] - 17s 2ms/step - loss: 4.1035 - accuracy: 0.0000e+00 - val_loss: 3.3850 - val_accuracy: 0.0000e+00\n",
      "Epoch 25/100\n",
      "10261/10261 [==============================] - 17s 2ms/step - loss: 4.1978 - accuracy: 0.0000e+00 - val_loss: 11.9611 - val_accuracy: 0.0000e+00\n",
      "Epoch 26/100\n",
      "10261/10261 [==============================] - 18s 2ms/step - loss: 4.1519 - accuracy: 0.0000e+00 - val_loss: 4.2316 - val_accuracy: 0.0000e+00\n",
      "Epoch 27/100\n",
      "10261/10261 [==============================] - 16s 2ms/step - loss: 4.1923 - accuracy: 0.0000e+00 - val_loss: 3.0213 - val_accuracy: 0.0000e+00\n",
      "Epoch 28/100\n",
      "10261/10261 [==============================] - 18s 2ms/step - loss: 4.1206 - accuracy: 0.0000e+00 - val_loss: 3.3044 - val_accuracy: 0.0000e+00\n",
      "Epoch 29/100\n",
      "10261/10261 [==============================] - 20s 2ms/step - loss: 3.9370 - accuracy: 0.0000e+00 - val_loss: 3.6837 - val_accuracy: 0.0000e+00\n",
      "Epoch 30/100\n",
      "10261/10261 [==============================] - 17s 2ms/step - loss: 4.0301 - accuracy: 0.0000e+00 - val_loss: 3.1136 - val_accuracy: 0.0000e+00\n",
      "Epoch 31/100\n",
      "10261/10261 [==============================] - 17s 2ms/step - loss: 4.1520 - accuracy: 0.0000e+00 - val_loss: 3.3551 - val_accuracy: 0.0000e+00\n",
      "Epoch 32/100\n",
      "10261/10261 [==============================] - 16s 2ms/step - loss: 4.0866 - accuracy: 0.0000e+00 - val_loss: 3.8009 - val_accuracy: 0.0000e+00\n",
      "Epoch 33/100\n",
      "10261/10261 [==============================] - 22s 2ms/step - loss: 3.9405 - accuracy: 0.0000e+00 - val_loss: 3.1180 - val_accuracy: 0.0000e+00\n",
      "Epoch 34/100\n",
      "10261/10261 [==============================] - 21s 2ms/step - loss: 3.9831 - accuracy: 0.0000e+00 - val_loss: 4.0184 - val_accuracy: 0.0000e+00\n",
      "Epoch 35/100\n",
      "10261/10261 [==============================] - 20s 2ms/step - loss: 3.9939 - accuracy: 0.0000e+00 - val_loss: 2.8848 - val_accuracy: 0.0000e+00\n",
      "Epoch 36/100\n",
      "10261/10261 [==============================] - 19s 2ms/step - loss: 3.8313 - accuracy: 0.0000e+00 - val_loss: 2.8190 - val_accuracy: 0.0000e+00\n",
      "Epoch 37/100\n",
      "10261/10261 [==============================] - 20s 2ms/step - loss: 3.8094 - accuracy: 0.0000e+00 - val_loss: 3.1962 - val_accuracy: 0.0000e+00\n",
      "Epoch 38/100\n",
      "10261/10261 [==============================] - 19s 2ms/step - loss: 3.9750 - accuracy: 0.0000e+00 - val_loss: 3.4288 - val_accuracy: 0.0000e+00\n",
      "Epoch 39/100\n",
      "10261/10261 [==============================] - 18s 2ms/step - loss: 3.9403 - accuracy: 0.0000e+00 - val_loss: 6.6303 - val_accuracy: 0.0000e+00\n",
      "Epoch 40/100\n",
      "10261/10261 [==============================] - 19s 2ms/step - loss: 3.9097 - accuracy: 0.0000e+00 - val_loss: 2.7663 - val_accuracy: 0.0000e+00\n",
      "Epoch 41/100\n",
      "10261/10261 [==============================] - 18s 2ms/step - loss: 3.8297 - accuracy: 0.0000e+00 - val_loss: 3.0976 - val_accuracy: 0.0000e+00\n",
      "Epoch 42/100\n",
      "10261/10261 [==============================] - 19s 2ms/step - loss: 3.9442 - accuracy: 0.0000e+00 - val_loss: 2.7910 - val_accuracy: 0.0000e+00\n",
      "Epoch 43/100\n",
      "10261/10261 [==============================] - 20s 2ms/step - loss: 19.8948 - accuracy: 0.0000e+00 - val_loss: 23.8218 - val_accuracy: 0.0000e+00\n",
      "Epoch 44/100\n",
      "10261/10261 [==============================] - 22s 2ms/step - loss: 7.4521 - accuracy: 0.0000e+00 - val_loss: 4.3901 - val_accuracy: 0.0000e+00\n",
      "Epoch 45/100\n",
      "10261/10261 [==============================] - 26s 3ms/step - loss: 3.8711 - accuracy: 0.0000e+00 - val_loss: 2.8894 - val_accuracy: 0.0000e+00\n",
      "Epoch 46/100\n",
      "10261/10261 [==============================] - 21s 2ms/step - loss: 3.8705 - accuracy: 0.0000e+00 - val_loss: 6.3791 - val_accuracy: 0.0000e+00\n",
      "Epoch 47/100\n",
      "10261/10261 [==============================] - 21s 2ms/step - loss: 3.8102 - accuracy: 0.0000e+00 - val_loss: 3.1020 - val_accuracy: 0.0000e+00\n",
      "Epoch 48/100\n",
      "10261/10261 [==============================] - 24s 2ms/step - loss: 3.8618 - accuracy: 0.0000e+00 - val_loss: 6.7412 - val_accuracy: 0.0000e+00\n",
      "Epoch 49/100\n",
      "10261/10261 [==============================] - 30s 3ms/step - loss: 3.7543 - accuracy: 0.0000e+00 - val_loss: 3.0847 - val_accuracy: 0.0000e+00\n",
      "Epoch 50/100\n",
      "10261/10261 [==============================] - 36s 3ms/step - loss: 3.8033 - accuracy: 0.0000e+00 - val_loss: 2.7624 - val_accuracy: 0.0000e+00\n",
      "Epoch 51/100\n",
      "10261/10261 [==============================] - 34s 3ms/step - loss: 3.8318 - accuracy: 0.0000e+00 - val_loss: 6.6091 - val_accuracy: 0.0000e+00\n",
      "Epoch 52/100\n",
      "10261/10261 [==============================] - 28s 3ms/step - loss: 3.7747 - accuracy: 0.0000e+00 - val_loss: 3.3031 - val_accuracy: 0.0000e+00\n",
      "Epoch 53/100\n"
     ]
    },
    {
     "name": "stdout",
     "output_type": "stream",
     "text": [
      "10261/10261 [==============================] - 28s 3ms/step - loss: 3.7210 - accuracy: 0.0000e+00 - val_loss: 2.7207 - val_accuracy: 0.0000e+00\n",
      "Epoch 54/100\n",
      "10261/10261 [==============================] - 35s 3ms/step - loss: 3.7059 - accuracy: 0.0000e+00 - val_loss: 2.7415 - val_accuracy: 0.0000e+00\n",
      "Epoch 55/100\n",
      "10261/10261 [==============================] - 32s 3ms/step - loss: 3.7677 - accuracy: 0.0000e+00 - val_loss: 3.7462 - val_accuracy: 0.0000e+00\n",
      "Epoch 56/100\n",
      "10261/10261 [==============================] - 28s 3ms/step - loss: 3.8822 - accuracy: 0.0000e+00 - val_loss: 3.1866 - val_accuracy: 0.0000e+00\n",
      "Epoch 57/100\n",
      "10261/10261 [==============================] - 26s 3ms/step - loss: 3.7629 - accuracy: 0.0000e+00 - val_loss: 2.8462 - val_accuracy: 0.0000e+00\n",
      "Epoch 58/100\n",
      "10261/10261 [==============================] - 27s 3ms/step - loss: 3.6870 - accuracy: 0.0000e+00 - val_loss: 5.1501 - val_accuracy: 0.0000e+00\n",
      "Epoch 59/100\n",
      "10261/10261 [==============================] - 26s 3ms/step - loss: 3.7277 - accuracy: 0.0000e+00 - val_loss: 2.7529 - val_accuracy: 0.0000e+00\n",
      "Epoch 60/100\n",
      "10261/10261 [==============================] - 26s 3ms/step - loss: 3.6390 - accuracy: 0.0000e+00 - val_loss: 3.0357 - val_accuracy: 0.0000e+00\n",
      "Epoch 61/100\n",
      "10261/10261 [==============================] - 28s 3ms/step - loss: 3.7811 - accuracy: 0.0000e+00 - val_loss: 5.1983 - val_accuracy: 0.0000e+00\n",
      "Epoch 62/100\n",
      "10261/10261 [==============================] - 32s 3ms/step - loss: 3.7541 - accuracy: 0.0000e+00 - val_loss: 2.8890 - val_accuracy: 0.0000e+00\n",
      "Epoch 63/100\n",
      "10261/10261 [==============================] - 32s 3ms/step - loss: 3.6262 - accuracy: 0.0000e+00 - val_loss: 3.1067 - val_accuracy: 0.0000e+00\n",
      "Epoch 64/100\n",
      "10261/10261 [==============================] - 29s 3ms/step - loss: 3.6793 - accuracy: 0.0000e+00 - val_loss: 3.8655 - val_accuracy: 0.0000e+00\n",
      "Epoch 65/100\n",
      "10261/10261 [==============================] - 36s 4ms/step - loss: 3.5849 - accuracy: 0.0000e+00 - val_loss: 3.9854 - val_accuracy: 0.0000e+00\n",
      "Epoch 66/100\n",
      "10261/10261 [==============================] - 36s 4ms/step - loss: 3.5281 - accuracy: 0.0000e+00 - val_loss: 2.7032 - val_accuracy: 0.0000e+00\n",
      "Epoch 67/100\n",
      "10261/10261 [==============================] - 33s 3ms/step - loss: 3.5286 - accuracy: 0.0000e+00 - val_loss: 3.2500 - val_accuracy: 0.0000e+00\n",
      "Epoch 68/100\n",
      "10261/10261 [==============================] - 28s 3ms/step - loss: 3.4765 - accuracy: 0.0000e+00 - val_loss: 2.8446 - val_accuracy: 0.0000e+00\n",
      "Epoch 69/100\n",
      "10261/10261 [==============================] - 29s 3ms/step - loss: 3.5731 - accuracy: 0.0000e+00 - val_loss: 2.8093 - val_accuracy: 0.0000e+00\n",
      "Epoch 70/100\n",
      "10261/10261 [==============================] - 27s 3ms/step - loss: 3.4356 - accuracy: 0.0000e+00 - val_loss: 2.6303 - val_accuracy: 0.0000e+00\n",
      "Epoch 71/100\n",
      "10261/10261 [==============================] - 30s 3ms/step - loss: 3.4557 - accuracy: 0.0000e+00 - val_loss: 2.6803 - val_accuracy: 0.0000e+00\n",
      "Epoch 72/100\n",
      "10261/10261 [==============================] - 28s 3ms/step - loss: 3.4603 - accuracy: 0.0000e+00 - val_loss: 3.6152 - val_accuracy: 0.0000e+00\n",
      "Epoch 73/100\n",
      "10261/10261 [==============================] - 39s 4ms/step - loss: 3.4759 - accuracy: 0.0000e+00 - val_loss: 3.4018 - val_accuracy: 0.0000e+00\n",
      "Epoch 74/100\n",
      "10261/10261 [==============================] - 31s 3ms/step - loss: 3.3616 - accuracy: 0.0000e+00 - val_loss: 2.5152 - val_accuracy: 0.0000e+00\n",
      "Epoch 75/100\n",
      "10261/10261 [==============================] - 31s 3ms/step - loss: 3.4710 - accuracy: 0.0000e+00 - val_loss: 3.3477 - val_accuracy: 0.0000e+00\n",
      "Epoch 76/100\n",
      "10261/10261 [==============================] - 31s 3ms/step - loss: 3.4051 - accuracy: 0.0000e+00 - val_loss: 3.1807 - val_accuracy: 0.0000e+00\n",
      "Epoch 77/100\n",
      "10261/10261 [==============================] - 33s 3ms/step - loss: 3.4981 - accuracy: 0.0000e+00 - val_loss: 6.6616 - val_accuracy: 0.0000e+00\n",
      "Epoch 78/100\n",
      "10261/10261 [==============================] - 31s 3ms/step - loss: 3.3999 - accuracy: 0.0000e+00 - val_loss: 3.3967 - val_accuracy: 0.0000e+00\n",
      "Epoch 79/100\n",
      "10261/10261 [==============================] - 32s 3ms/step - loss: 8.7071 - accuracy: 0.0000e+00 - val_loss: 19.3073 - val_accuracy: 0.0000e+00\n",
      "Epoch 80/100\n",
      "10261/10261 [==============================] - 32s 3ms/step - loss: 14.0045 - accuracy: 0.0000e+00 - val_loss: 9.3097 - val_accuracy: 0.0000e+00\n",
      "Epoch 81/100\n",
      "10261/10261 [==============================] - 32s 3ms/step - loss: 7.2884 - accuracy: 0.0000e+00 - val_loss: 4.9210 - val_accuracy: 0.0000e+00\n",
      "Epoch 82/100\n",
      "10261/10261 [==============================] - 31s 3ms/step - loss: 4.7383 - accuracy: 0.0000e+00 - val_loss: 3.6554 - val_accuracy: 0.0000e+00\n",
      "Epoch 83/100\n",
      "10261/10261 [==============================] - 32s 3ms/step - loss: 4.1511 - accuracy: 0.0000e+00 - val_loss: 3.8514 - val_accuracy: 0.0000e+00\n",
      "Epoch 84/100\n",
      "10261/10261 [==============================] - 36s 4ms/step - loss: 3.9087 - accuracy: 0.0000e+00 - val_loss: 3.8494 - val_accuracy: 0.0000e+00\n",
      "Epoch 85/100\n",
      "10261/10261 [==============================] - 37s 4ms/step - loss: 3.9186 - accuracy: 0.0000e+00 - val_loss: 4.0127 - val_accuracy: 0.0000e+00\n",
      "Epoch 86/100\n",
      "10261/10261 [==============================] - 51s 5ms/step - loss: 3.8167 - accuracy: 0.0000e+00 - val_loss: 3.5532 - val_accuracy: 0.0000e+00\n",
      "Epoch 87/100\n",
      "10261/10261 [==============================] - 36s 4ms/step - loss: 3.8579 - accuracy: 0.0000e+00 - val_loss: 4.4057 - val_accuracy: 0.0000e+00\n",
      "Epoch 88/100\n",
      "10261/10261 [==============================] - 33s 3ms/step - loss: 3.8461 - accuracy: 0.0000e+00 - val_loss: 2.9815 - val_accuracy: 0.0000e+00\n",
      "Epoch 89/100\n",
      "10261/10261 [==============================] - 28s 3ms/step - loss: 3.7538 - accuracy: 0.0000e+00 - val_loss: 3.5188 - val_accuracy: 0.0000e+00\n",
      "Epoch 90/100\n",
      "10261/10261 [==============================] - 28s 3ms/step - loss: 3.8125 - accuracy: 0.0000e+00 - val_loss: 3.9555 - val_accuracy: 0.0000e+00\n",
      "Epoch 91/100\n",
      "10261/10261 [==============================] - 28s 3ms/step - loss: 3.7569 - accuracy: 0.0000e+00 - val_loss: 3.1329 - val_accuracy: 0.0000e+00\n",
      "Epoch 92/100\n",
      "10261/10261 [==============================] - 29s 3ms/step - loss: 3.7235 - accuracy: 0.0000e+00 - val_loss: 3.6335 - val_accuracy: 0.0000e+00\n",
      "Epoch 93/100\n",
      "10261/10261 [==============================] - 28s 3ms/step - loss: 3.6882 - accuracy: 0.0000e+00 - val_loss: 2.9808 - val_accuracy: 0.0000e+00\n",
      "Epoch 94/100\n",
      "10261/10261 [==============================] - 28s 3ms/step - loss: 3.8326 - accuracy: 0.0000e+00 - val_loss: 4.3589 - val_accuracy: 0.0000e+00\n",
      "Epoch 95/100\n",
      "10261/10261 [==============================] - 37s 4ms/step - loss: 3.7870 - accuracy: 0.0000e+00 - val_loss: 3.0147 - val_accuracy: 0.0000e+00\n",
      "Epoch 96/100\n",
      "10261/10261 [==============================] - 34s 3ms/step - loss: 3.8112 - accuracy: 0.0000e+00 - val_loss: 9.5255 - val_accuracy: 0.0000e+00\n",
      "Epoch 97/100\n",
      "10261/10261 [==============================] - 36s 4ms/step - loss: 3.6903 - accuracy: 0.0000e+00 - val_loss: 4.6358 - val_accuracy: 0.0000e+00\n",
      "Epoch 98/100\n",
      "10261/10261 [==============================] - 50s 5ms/step - loss: 3.6970 - accuracy: 0.0000e+00 - val_loss: 6.6312 - val_accuracy: 0.0000e+00\n",
      "Epoch 99/100\n",
      "10261/10261 [==============================] - 49s 5ms/step - loss: 3.7598 - accuracy: 0.0000e+00 - val_loss: 3.3602 - val_accuracy: 0.0000e+00\n",
      "Epoch 100/100\n",
      "10261/10261 [==============================] - 53s 5ms/step - loss: 3.8240 - accuracy: 0.0000e+00 - val_loss: 3.8544 - val_accuracy: 0.0000e+00\n"
     ]
    }
   ],
   "source": [
    "classifier.compile(optimizer = 'adam', loss = 'mean_squared_error', metrics = ['accuracy'])\n",
    "\n",
    "history=classifier.fit(x_train, y_train, batch_size = 10, epochs = 100, validation_data=(x_test,y_test))"
   ]
  },
  {
   "cell_type": "code",
   "execution_count": 7,
   "id": "03ad3147",
   "metadata": {},
   "outputs": [],
   "source": [
    "# Prediction\n",
    "\n",
    "y_pred = classifier.predict(x_test)"
   ]
  },
  {
   "cell_type": "code",
   "execution_count": 8,
   "id": "65097d44",
   "metadata": {},
   "outputs": [
    {
     "data": {
      "text/plain": [
       "3.8544512205307244"
      ]
     },
     "execution_count": 8,
     "metadata": {},
     "output_type": "execute_result"
    }
   ],
   "source": [
    "# Mean squared error\n",
    "\n",
    "from sklearn.metrics import mean_squared_error, r2_score\n",
    "\n",
    "mean_squared_error(y_test,y_pred)\n"
   ]
  },
  {
   "cell_type": "code",
   "execution_count": 9,
   "id": "6fde3f4f",
   "metadata": {},
   "outputs": [
    {
     "data": {
      "text/plain": [
       "0.9005845015380253"
      ]
     },
     "execution_count": 9,
     "metadata": {},
     "output_type": "execute_result"
    }
   ],
   "source": [
    "r2_score(y_test,y_pred)"
   ]
  },
  {
   "cell_type": "code",
   "execution_count": 10,
   "id": "613ac5b6",
   "metadata": {},
   "outputs": [
    {
     "data": {
      "image/png": "[encoded data removed]",
      "text/plain": [
       "<Figure size 432x288 with 1 Axes>"
      ]
     },
     "metadata": {
      "needs_background": "light"
     },
     "output_type": "display_data"
    }
   ],
   "source": [
    "import matplotlib.pyplot as plt\n",
    "\n",
    "plt.plot(history.history['loss'])\n",
    "plt.title('Model Loss')\n",
    "plt.ylabel('LOSS')\n",
    "plt.xlabel('EPOCH')\n",
    "plt.legend(['train'], loc='upper left')\n",
    "plt.show()"
   ]
  },
  {
   "cell_type": "code",
   "execution_count": 11,
   "id": "994d86fe",
   "metadata": {
    "scrolled": true
   },
   "outputs": [
    {
     "data": {
      "image/png": "[encoded data removed]",
      "text/plain": [
       "<Figure size 432x288 with 1 Axes>"
      ]
     },
     "metadata": {
      "needs_background": "light"
     },
     "output_type": "display_data"
    }
   ],
   "source": [
    "plt.plot(history.history['val_loss'])\n",
    "plt.title('Model Validation Loss')\n",
    "plt.ylabel('VAL LOSS')\n",
    "plt.xlabel('EPOCH')\n",
    "plt.legend(['train'], loc='upper left')\n",
    "plt.show()"
   ]
  },
  {
   "cell_type": "code",
   "execution_count": 12,
   "id": "8b347703",
   "metadata": {},
   "outputs": [
    {
     "data": {
      "image/png": "[encoded data removed]",
      "text/plain": [
       "<Figure size 432x288 with 1 Axes>"
      ]
     },
     "metadata": {
      "needs_background": "light"
     },
     "output_type": "display_data"
    }
   ],
   "source": [
    "plt.scatter(x=y_test, y=y_pred, c='navy', alpha=0.6)\n",
    "plt.plot(y_pred, y_pred,color='cyan')\n",
    "plt.title('Predicted vs Actual values')\n",
    "plt.xlabel('Actual values')\n",
    "plt.ylabel('Predicted values')\n",
    "plt.show()"
   ]
  },
  {
   "cell_type": "code",
   "execution_count": 13,
   "id": "bf683b22",
   "metadata": {},
   "outputs": [
    {
     "ename": "ValueError",
     "evalue": "in user code:\n\n    File \"C:\\Users\\iayus\\AppData\\Roaming\\Python\\Python38\\site-packages\\keras\\engine\\training.py\", line 1801, in predict_function  *\n        return step_function(self, iterator)\n    File \"C:\\Users\\iayus\\AppData\\Roaming\\Python\\Python38\\site-packages\\keras\\engine\\training.py\", line 1790, in step_function  **\n        outputs = model.distribute_strategy.run(run_step, args=(data,))\n    File \"C:\\Users\\iayus\\AppData\\Roaming\\Python\\Python38\\site-packages\\keras\\engine\\training.py\", line 1783, in run_step  **\n        outputs = model.predict_step(data)\n    File \"C:\\Users\\iayus\\AppData\\Roaming\\Python\\Python38\\site-packages\\keras\\engine\\training.py\", line 1751, in predict_step\n        return self(x, training=False)\n    File \"C:\\Users\\iayus\\AppData\\Roaming\\Python\\Python38\\site-packages\\keras\\utils\\traceback_utils.py\", line 67, in error_handler\n        raise e.with_traceback(filtered_tb) from None\n    File \"C:\\Users\\iayus\\AppData\\Roaming\\Python\\Python38\\site-packages\\keras\\engine\\input_spec.py\", line 264, in assert_input_compatibility\n        raise ValueError(f'Input {input_index} of layer \"{layer_name}\" is '\n\n    ValueError: Input 0 of layer \"sequential\" is incompatible with the layer: expected shape=(None, 4), found shape=(None, 3)\n",
     "output_type": "error",
     "traceback": [
      "\u001b[1;31m---------------------------------------------------------------------------\u001b[0m",
      "\u001b[1;31mValueError\u001b[0m                                Traceback (most recent call last)",
      "Input \u001b[1;32mIn [13]\u001b[0m, in \u001b[0;36m<module>\u001b[1;34m\u001b[0m\n\u001b[0;32m     18\u001b[0m \u001b[38;5;28;01mfor\u001b[39;00m i \u001b[38;5;129;01min\u001b[39;00m \u001b[38;5;28mrange\u001b[39m(\u001b[38;5;241m0\u001b[39m,SAMPLE_SIZE):\n\u001b[0;32m     19\u001b[0m     rand_x\u001b[38;5;241m.\u001b[39mappend([rand_height[i], rand_rad[i], rand_freq[i]])\n\u001b[1;32m---> 21\u001b[0m y_pred_rand \u001b[38;5;241m=\u001b[39m \u001b[43mclassifier\u001b[49m\u001b[38;5;241;43m.\u001b[39;49m\u001b[43mpredict\u001b[49m\u001b[43m(\u001b[49m\u001b[43mrand_x\u001b[49m\u001b[43m)\u001b[49m\n\u001b[0;32m     23\u001b[0m \u001b[38;5;28mprint\u001b[39m(\u001b[38;5;124m\"\u001b[39m\u001b[38;5;124mPredicted Values for random samples\u001b[39m\u001b[38;5;130;01m\\n\u001b[39;00m\u001b[38;5;124m\"\u001b[39m)\n\u001b[0;32m     25\u001b[0m output \u001b[38;5;241m=\u001b[39m []\n",
      "File \u001b[1;32m~\\AppData\\Roaming\\Python\\Python38\\site-packages\\keras\\utils\\traceback_utils.py:67\u001b[0m, in \u001b[0;36mfilter_traceback.<locals>.error_handler\u001b[1;34m(*args, **kwargs)\u001b[0m\n\u001b[0;32m     65\u001b[0m \u001b[38;5;28;01mexcept\u001b[39;00m \u001b[38;5;167;01mException\u001b[39;00m \u001b[38;5;28;01mas\u001b[39;00m e:  \u001b[38;5;66;03m# pylint: disable=broad-except\u001b[39;00m\n\u001b[0;32m     66\u001b[0m   filtered_tb \u001b[38;5;241m=\u001b[39m _process_traceback_frames(e\u001b[38;5;241m.\u001b[39m__traceback__)\n\u001b[1;32m---> 67\u001b[0m   \u001b[38;5;28;01mraise\u001b[39;00m e\u001b[38;5;241m.\u001b[39mwith_traceback(filtered_tb) \u001b[38;5;28;01mfrom\u001b[39;00m \u001b[38;5;28mNone\u001b[39m\n\u001b[0;32m     68\u001b[0m \u001b[38;5;28;01mfinally\u001b[39;00m:\n\u001b[0;32m     69\u001b[0m   \u001b[38;5;28;01mdel\u001b[39;00m filtered_tb\n",
      "File \u001b[1;32m~\\AppData\\Roaming\\Python\\Python38\\site-packages\\tensorflow\\python\\framework\\func_graph.py:1147\u001b[0m, in \u001b[0;36mfunc_graph_from_py_func.<locals>.autograph_handler\u001b[1;34m(*args, **kwargs)\u001b[0m\n\u001b[0;32m   1145\u001b[0m \u001b[38;5;28;01mexcept\u001b[39;00m \u001b[38;5;167;01mException\u001b[39;00m \u001b[38;5;28;01mas\u001b[39;00m e:  \u001b[38;5;66;03m# pylint:disable=broad-except\u001b[39;00m\n\u001b[0;32m   1146\u001b[0m   \u001b[38;5;28;01mif\u001b[39;00m \u001b[38;5;28mhasattr\u001b[39m(e, \u001b[38;5;124m\"\u001b[39m\u001b[38;5;124mag_error_metadata\u001b[39m\u001b[38;5;124m\"\u001b[39m):\n\u001b[1;32m-> 1147\u001b[0m     \u001b[38;5;28;01mraise\u001b[39;00m e\u001b[38;5;241m.\u001b[39mag_error_metadata\u001b[38;5;241m.\u001b[39mto_exception(e)\n\u001b[0;32m   1148\u001b[0m   \u001b[38;5;28;01melse\u001b[39;00m:\n\u001b[0;32m   1149\u001b[0m     \u001b[38;5;28;01mraise\u001b[39;00m\n",
      "\u001b[1;31mValueError\u001b[0m: in user code:\n\n    File \"C:\\Users\\iayus\\AppData\\Roaming\\Python\\Python38\\site-packages\\keras\\engine\\training.py\", line 1801, in predict_function  *\n        return step_function(self, iterator)\n    File \"C:\\Users\\iayus\\AppData\\Roaming\\Python\\Python38\\site-packages\\keras\\engine\\training.py\", line 1790, in step_function  **\n        outputs = model.distribute_strategy.run(run_step, args=(data,))\n    File \"C:\\Users\\iayus\\AppData\\Roaming\\Python\\Python38\\site-packages\\keras\\engine\\training.py\", line 1783, in run_step  **\n        outputs = model.predict_step(data)\n    File \"C:\\Users\\iayus\\AppData\\Roaming\\Python\\Python38\\site-packages\\keras\\engine\\training.py\", line 1751, in predict_step\n        return self(x, training=False)\n    File \"C:\\Users\\iayus\\AppData\\Roaming\\Python\\Python38\\site-packages\\keras\\utils\\traceback_utils.py\", line 67, in error_handler\n        raise e.with_traceback(filtered_tb) from None\n    File \"C:\\Users\\iayus\\AppData\\Roaming\\Python\\Python38\\site-packages\\keras\\engine\\input_spec.py\", line 264, in assert_input_compatibility\n        raise ValueError(f'Input {input_index} of layer \"{layer_name}\" is '\n\n    ValueError: Input 0 of layer \"sequential\" is incompatible with the layer: expected shape=(None, 4), found shape=(None, 3)\n"
     ]
    }
   ],
   "source": [
    "import numpy\n",
    "import pandas\n",
    "\n",
    "SAMPLE_SIZE = 10\n",
    "\n",
    "def randomSample(low, high, size):\n",
    "    rand_rad = numpy.random.uniform(low, high, size)\n",
    "    for i in range(0, rand_rad.size):\n",
    "        rand_rad[i] = round(rand_rad[i], 2)\n",
    "    return rand_rad\n",
    "\n",
    "\n",
    "rand_rad = randomSample(8, 10, SAMPLE_SIZE)\n",
    "rand_height = randomSample(13, 15, SAMPLE_SIZE)\n",
    "rand_freq = randomSample(3, 6, SAMPLE_SIZE)\n",
    "rand_aperture = randomSample(5,6, SAMPLE_SIZE)\n",
    "\n",
    "rand_x = []\n",
    "for i in range(0,SAMPLE_SIZE):\n",
    "    rand_x.append([rand_aperture[i], rand_height[i], rand_rad[i], rand_freq[i]])\n",
    "\n",
    "y_pred_rand = classifier.predict(rand_x)\n",
    "\n",
    "print(\"Predicted Values for random samples\\n\")\n",
    "\n",
    "output = []\n",
    "for i in range(0, SAMPLE_SIZE):\n",
    "    output.append([rand_aperture[i], rand_height[i], rand_rad[i], rand_freq[i], y_pred_rand[i]])\n",
    "    \n",
    "print(output)"
   ]
  },
  {
   "cell_type": "code",
   "execution_count": null,
   "id": "621d26f1",
   "metadata": {},
   "outputs": [],
   "source": []
  },
  {
   "cell_type": "code",
   "execution_count": null,
   "id": "5b809f61",
   "metadata": {},
   "outputs": [],
   "source": []
  }
 ],
 "metadata": {
  "kernelspec": {
   "display_name": "Python 3 (ipykernel)",
   "language": "python",
   "name": "python3"
  },
  "language_info": {
   "codemirror_mode": {
    "name": "ipython",
    "version": 3
   },
   "file_extension": ".py",
   "mimetype": "text/x-python",
   "name": "python",
   "nbconvert_exporter": "python",
   "pygments_lexer": "ipython3",
   "version": "3.8.8"
  }
 },
 "nbformat": 4,
 "nbformat_minor": 5
}
