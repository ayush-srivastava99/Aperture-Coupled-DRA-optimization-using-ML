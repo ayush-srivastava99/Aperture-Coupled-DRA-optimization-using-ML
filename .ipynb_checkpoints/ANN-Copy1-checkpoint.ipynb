{
 "cells": [
  {
   "cell_type": "code",
   "execution_count": 1,
   "id": "0cfc5995",
   "metadata": {},
   "outputs": [],
   "source": [
    "import pandas as pd\n",
    "from sklearn.model_selection import train_test_split\n",
    "import keras\n",
    "from keras.models import Sequential\n",
    "from keras.layers import Dense"
   ]
  },
  {
   "cell_type": "code",
   "execution_count": 2,
   "id": "4ce216f8",
   "metadata": {},
   "outputs": [],
   "source": [
    "dataset = pd.read_csv('apdra_dataset.csv')\n",
    "\n",
    "x = pd.DataFrame(dataset.iloc[:, 0:4].values)\n",
    "y = dataset.iloc[:, 4].values"
   ]
  },
  {
   "cell_type": "code",
   "execution_count": 3,
   "id": "3742312a",
   "metadata": {},
   "outputs": [
    {
     "data": {
      "text/plain": [
       "array([ -2.42825392,  -2.44558783,  -2.46314531, ..., -11.09366126,\n",
       "       -11.17339185, -11.25663501])"
      ]
     },
     "execution_count": 3,
     "metadata": {},
     "output_type": "execute_result"
    }
   ],
   "source": [
    "y"
   ]
  },
  {
   "cell_type": "code",
   "execution_count": 4,
   "id": "1ca1c041",
   "metadata": {},
   "outputs": [],
   "source": [
    "x_train, x_test, y_train, y_test = train_test_split(x, y, test_size = 0.3, random_state = 123)"
   ]
  },
  {
   "cell_type": "code",
   "execution_count": 5,
   "id": "fdbc0ad9",
   "metadata": {},
   "outputs": [],
   "source": [
    "# Artificial NN\n",
    "\n",
    "classifier = Sequential()\n",
    "\n",
    "# Input Layer\n",
    "classifier.add(Dense(units = 6, activation = 'relu', input_dim = 4))\n",
    "\n",
    "# 1st Hidden Layer\n",
    "classifier.add(Dense(units = 8, activation = 'relu'))\n",
    "\n",
    "# 2nd Hidden Layer\n",
    "classifier.add(Dense(units = 3, activation = 'relu'))\n",
    "\n",
    "# Output Layer\n",
    "classifier.add(Dense(units = 1, activation = 'linear'))"
   ]
  },
  {
   "cell_type": "code",
   "execution_count": 6,
   "id": "673d972a",
   "metadata": {},
   "outputs": [
    {
     "name": "stdout",
     "output_type": "stream",
     "text": [
      "Epoch 1/100\n",
      "10261/10261 [==============================] - 26s 2ms/step - loss: 33.2956 - accuracy: 0.0000e+00 - val_loss: 24.4272 - val_accuracy: 0.0000e+00\n",
      "Epoch 2/100\n",
      "10261/10261 [==============================] - 26s 3ms/step - loss: 23.6852 - accuracy: 0.0000e+00 - val_loss: 23.3934 - val_accuracy: 0.0000e+00\n",
      "Epoch 3/100\n",
      "10261/10261 [==============================] - 26s 3ms/step - loss: 23.0727 - accuracy: 0.0000e+00 - val_loss: 22.7319 - val_accuracy: 0.0000e+00\n",
      "Epoch 4/100\n",
      "10261/10261 [==============================] - 23s 2ms/step - loss: 22.6767 - accuracy: 0.0000e+00 - val_loss: 22.4693 - val_accuracy: 0.0000e+00\n",
      "Epoch 5/100\n",
      "10261/10261 [==============================] - 24s 2ms/step - loss: 22.3019 - accuracy: 0.0000e+00 - val_loss: 21.9786 - val_accuracy: 0.0000e+00\n",
      "Epoch 6/100\n",
      "10261/10261 [==============================] - 24s 2ms/step - loss: 21.9221 - accuracy: 0.0000e+00 - val_loss: 21.7480 - val_accuracy: 0.0000e+00\n",
      "Epoch 7/100\n",
      "10261/10261 [==============================] - 23s 2ms/step - loss: 21.4990 - accuracy: 0.0000e+00 - val_loss: 21.1333 - val_accuracy: 0.0000e+00\n",
      "Epoch 8/100\n",
      "10261/10261 [==============================] - 24s 2ms/step - loss: 21.1254 - accuracy: 0.0000e+00 - val_loss: 21.0924 - val_accuracy: 0.0000e+00\n",
      "Epoch 9/100\n",
      "10261/10261 [==============================] - 24s 2ms/step - loss: 20.8065 - accuracy: 0.0000e+00 - val_loss: 20.6259 - val_accuracy: 0.0000e+00\n",
      "Epoch 10/100\n",
      "10261/10261 [==============================] - 24s 2ms/step - loss: 20.4497 - accuracy: 0.0000e+00 - val_loss: 19.9836 - val_accuracy: 0.0000e+00\n",
      "Epoch 11/100\n",
      "10261/10261 [==============================] - 24s 2ms/step - loss: 19.9225 - accuracy: 0.0000e+00 - val_loss: 19.3370 - val_accuracy: 0.0000e+00\n",
      "Epoch 12/100\n",
      "10261/10261 [==============================] - 23s 2ms/step - loss: 18.7835 - accuracy: 0.0000e+00 - val_loss: 18.2305 - val_accuracy: 0.0000e+00\n",
      "Epoch 13/100\n",
      "10261/10261 [==============================] - 25s 2ms/step - loss: 17.4980 - accuracy: 0.0000e+00 - val_loss: 17.3059 - val_accuracy: 0.0000e+00\n",
      "Epoch 14/100\n",
      "10261/10261 [==============================] - 26s 3ms/step - loss: 16.5517 - accuracy: 0.0000e+00 - val_loss: 16.5163 - val_accuracy: 0.0000e+00\n",
      "Epoch 15/100\n",
      "10261/10261 [==============================] - 26s 3ms/step - loss: 15.5011 - accuracy: 0.0000e+00 - val_loss: 15.4837 - val_accuracy: 0.0000e+00\n",
      "Epoch 16/100\n",
      "10261/10261 [==============================] - 27s 3ms/step - loss: 13.6372 - accuracy: 0.0000e+00 - val_loss: 11.7071 - val_accuracy: 0.0000e+00\n",
      "Epoch 17/100\n",
      "10261/10261 [==============================] - 25s 2ms/step - loss: 11.1611 - accuracy: 0.0000e+00 - val_loss: 10.8511 - val_accuracy: 0.0000e+00\n",
      "Epoch 18/100\n",
      "10261/10261 [==============================] - 27s 3ms/step - loss: 9.6273 - accuracy: 0.0000e+00 - val_loss: 8.3628 - val_accuracy: 0.0000e+00\n",
      "Epoch 19/100\n",
      "10261/10261 [==============================] - 28s 3ms/step - loss: 7.9380 - accuracy: 0.0000e+00 - val_loss: 7.5427 - val_accuracy: 0.0000e+00\n",
      "Epoch 20/100\n",
      "10261/10261 [==============================] - 24s 2ms/step - loss: 6.1806 - accuracy: 0.0000e+00 - val_loss: 9.5994 - val_accuracy: 0.0000e+00\n",
      "Epoch 21/100\n",
      "10261/10261 [==============================] - 23s 2ms/step - loss: 5.2392 - accuracy: 0.0000e+00 - val_loss: 4.3603 - val_accuracy: 0.0000e+00\n",
      "Epoch 22/100\n",
      "10261/10261 [==============================] - 22s 2ms/step - loss: 4.8155 - accuracy: 0.0000e+00 - val_loss: 4.6010 - val_accuracy: 0.0000e+00\n",
      "Epoch 23/100\n",
      "10261/10261 [==============================] - 22s 2ms/step - loss: 4.7870 - accuracy: 0.0000e+00 - val_loss: 4.6265 - val_accuracy: 0.0000e+00\n",
      "Epoch 24/100\n",
      "10261/10261 [==============================] - 23s 2ms/step - loss: 4.6899 - accuracy: 0.0000e+00 - val_loss: 5.7979 - val_accuracy: 0.0000e+00\n",
      "Epoch 25/100\n",
      "10261/10261 [==============================] - 23s 2ms/step - loss: 4.5851 - accuracy: 0.0000e+00 - val_loss: 4.6399 - val_accuracy: 0.0000e+00\n",
      "Epoch 26/100\n",
      "10261/10261 [==============================] - 23s 2ms/step - loss: 4.4765 - accuracy: 0.0000e+00 - val_loss: 5.5733 - val_accuracy: 0.0000e+00\n",
      "Epoch 27/100\n",
      "10261/10261 [==============================] - 22s 2ms/step - loss: 4.3717 - accuracy: 0.0000e+00 - val_loss: 3.9341 - val_accuracy: 0.0000e+00\n",
      "Epoch 28/100\n",
      "10261/10261 [==============================] - 23s 2ms/step - loss: 4.2841 - accuracy: 0.0000e+00 - val_loss: 3.3173 - val_accuracy: 0.0000e+00\n",
      "Epoch 29/100\n",
      "10261/10261 [==============================] - 23s 2ms/step - loss: 4.2654 - accuracy: 0.0000e+00 - val_loss: 5.5804 - val_accuracy: 0.0000e+00\n",
      "Epoch 30/100\n",
      "10261/10261 [==============================] - 23s 2ms/step - loss: 4.2840 - accuracy: 0.0000e+00 - val_loss: 3.9205 - val_accuracy: 0.0000e+00\n",
      "Epoch 31/100\n",
      "10261/10261 [==============================] - 23s 2ms/step - loss: 4.1606 - accuracy: 0.0000e+00 - val_loss: 3.2642 - val_accuracy: 0.0000e+00\n",
      "Epoch 32/100\n",
      "10261/10261 [==============================] - 23s 2ms/step - loss: 9.0432 - accuracy: 0.0000e+00 - val_loss: 16.4638 - val_accuracy: 0.0000e+00\n",
      "Epoch 33/100\n",
      "10261/10261 [==============================] - 23s 2ms/step - loss: 14.1015 - accuracy: 0.0000e+00 - val_loss: 12.2407 - val_accuracy: 0.0000e+00\n",
      "Epoch 34/100\n",
      "10261/10261 [==============================] - 23s 2ms/step - loss: 11.8789 - accuracy: 0.0000e+00 - val_loss: 10.7158 - val_accuracy: 0.0000e+00\n",
      "Epoch 35/100\n",
      "10261/10261 [==============================] - 26s 3ms/step - loss: 10.4468 - accuracy: 0.0000e+00 - val_loss: 9.4497 - val_accuracy: 0.0000e+00\n",
      "Epoch 36/100\n",
      "10261/10261 [==============================] - 25s 2ms/step - loss: 9.1247 - accuracy: 0.0000e+00 - val_loss: 8.0562 - val_accuracy: 0.0000e+00\n",
      "Epoch 37/100\n",
      "10261/10261 [==============================] - 22s 2ms/step - loss: 7.9110 - accuracy: 0.0000e+00 - val_loss: 7.0803 - val_accuracy: 0.0000e+00\n",
      "Epoch 38/100\n",
      "10261/10261 [==============================] - 22s 2ms/step - loss: 6.7102 - accuracy: 0.0000e+00 - val_loss: 6.1815 - val_accuracy: 0.0000e+00\n",
      "Epoch 39/100\n",
      "10261/10261 [==============================] - 22s 2ms/step - loss: 5.6522 - accuracy: 0.0000e+00 - val_loss: 4.9888 - val_accuracy: 0.0000e+00\n",
      "Epoch 40/100\n",
      "10261/10261 [==============================] - 22s 2ms/step - loss: 4.7509 - accuracy: 0.0000e+00 - val_loss: 6.0498 - val_accuracy: 0.0000e+00\n",
      "Epoch 41/100\n",
      "10261/10261 [==============================] - 22s 2ms/step - loss: 4.1310 - accuracy: 0.0000e+00 - val_loss: 3.6573 - val_accuracy: 0.0000e+00\n",
      "Epoch 42/100\n",
      "10261/10261 [==============================] - 22s 2ms/step - loss: 3.8852 - accuracy: 0.0000e+00 - val_loss: 3.4574 - val_accuracy: 0.0000e+00\n",
      "Epoch 43/100\n",
      "10261/10261 [==============================] - 22s 2ms/step - loss: 3.8297 - accuracy: 0.0000e+00 - val_loss: 3.2524 - val_accuracy: 0.0000e+00\n",
      "Epoch 44/100\n",
      "10261/10261 [==============================] - 22s 2ms/step - loss: 3.8113 - accuracy: 0.0000e+00 - val_loss: 3.7066 - val_accuracy: 0.0000e+00\n",
      "Epoch 45/100\n",
      "10261/10261 [==============================] - 22s 2ms/step - loss: 3.7642 - accuracy: 0.0000e+00 - val_loss: 3.2907 - val_accuracy: 0.0000e+00\n",
      "Epoch 46/100\n",
      "10261/10261 [==============================] - 24s 2ms/step - loss: 3.8002 - accuracy: 0.0000e+00 - val_loss: 3.4426 - val_accuracy: 0.0000e+00\n",
      "Epoch 47/100\n",
      "10261/10261 [==============================] - 22s 2ms/step - loss: 3.7849 - accuracy: 0.0000e+00 - val_loss: 3.3662 - val_accuracy: 0.0000e+00\n",
      "Epoch 48/100\n",
      "10261/10261 [==============================] - 22s 2ms/step - loss: 3.7441 - accuracy: 0.0000e+00 - val_loss: 6.3600 - val_accuracy: 0.0000e+00\n",
      "Epoch 49/100\n",
      "10261/10261 [==============================] - 22s 2ms/step - loss: 3.7107 - accuracy: 0.0000e+00 - val_loss: 3.2364 - val_accuracy: 0.0000e+00\n",
      "Epoch 50/100\n",
      "10261/10261 [==============================] - 22s 2ms/step - loss: 3.7415 - accuracy: 0.0000e+00 - val_loss: 3.1900 - val_accuracy: 0.0000e+00\n",
      "Epoch 51/100\n",
      "10261/10261 [==============================] - 22s 2ms/step - loss: 3.7720 - accuracy: 0.0000e+00 - val_loss: 3.3390 - val_accuracy: 0.0000e+00\n",
      "Epoch 52/100\n",
      "10261/10261 [==============================] - 22s 2ms/step - loss: 3.6965 - accuracy: 0.0000e+00 - val_loss: 3.5844 - val_accuracy: 0.0000e+00\n"
     ]
    },
    {
     "name": "stdout",
     "output_type": "stream",
     "text": [
      "Epoch 53/100\n",
      "10261/10261 [==============================] - 21s 2ms/step - loss: 3.7432 - accuracy: 0.0000e+00 - val_loss: 3.2836 - val_accuracy: 0.0000e+00\n",
      "Epoch 54/100\n",
      "10261/10261 [==============================] - 21s 2ms/step - loss: 3.7011 - accuracy: 0.0000e+00 - val_loss: 3.1183 - val_accuracy: 0.0000e+00\n",
      "Epoch 55/100\n",
      "10261/10261 [==============================] - 21s 2ms/step - loss: 3.6963 - accuracy: 0.0000e+00 - val_loss: 3.2781 - val_accuracy: 0.0000e+00\n",
      "Epoch 56/100\n",
      "10261/10261 [==============================] - 26s 3ms/step - loss: 3.6965 - accuracy: 0.0000e+00 - val_loss: 3.5722 - val_accuracy: 0.0000e+00\n",
      "Epoch 57/100\n",
      "10261/10261 [==============================] - 26s 3ms/step - loss: 3.7387 - accuracy: 0.0000e+00 - val_loss: 3.2355 - val_accuracy: 0.0000e+00\n",
      "Epoch 58/100\n",
      "10261/10261 [==============================] - 23s 2ms/step - loss: 3.7358 - accuracy: 0.0000e+00 - val_loss: 3.8638 - val_accuracy: 0.0000e+00\n",
      "Epoch 59/100\n",
      "10261/10261 [==============================] - 24s 2ms/step - loss: 3.6507 - accuracy: 0.0000e+00 - val_loss: 5.1477 - val_accuracy: 0.0000e+00\n",
      "Epoch 60/100\n",
      "10261/10261 [==============================] - 23s 2ms/step - loss: 3.6982 - accuracy: 0.0000e+00 - val_loss: 5.0918 - val_accuracy: 0.0000e+00\n",
      "Epoch 61/100\n",
      "10261/10261 [==============================] - 24s 2ms/step - loss: 3.6759 - accuracy: 0.0000e+00 - val_loss: 5.7720 - val_accuracy: 0.0000e+00\n",
      "Epoch 62/100\n",
      "10261/10261 [==============================] - 24s 2ms/step - loss: 3.7184 - accuracy: 0.0000e+00 - val_loss: 3.9150 - val_accuracy: 0.0000e+00\n",
      "Epoch 63/100\n",
      "10261/10261 [==============================] - 23s 2ms/step - loss: 3.6856 - accuracy: 0.0000e+00 - val_loss: 4.4974 - val_accuracy: 0.0000e+00\n",
      "Epoch 64/100\n",
      "10261/10261 [==============================] - 25s 2ms/step - loss: 3.6943 - accuracy: 0.0000e+00 - val_loss: 6.2435 - val_accuracy: 0.0000e+00\n",
      "Epoch 65/100\n",
      "10261/10261 [==============================] - 23s 2ms/step - loss: 3.7101 - accuracy: 0.0000e+00 - val_loss: 3.7198 - val_accuracy: 0.0000e+00\n",
      "Epoch 66/100\n",
      "10261/10261 [==============================] - 24s 2ms/step - loss: 3.6536 - accuracy: 0.0000e+00 - val_loss: 3.3032 - val_accuracy: 0.0000e+00\n",
      "Epoch 67/100\n",
      "10261/10261 [==============================] - 24s 2ms/step - loss: 3.6252 - accuracy: 0.0000e+00 - val_loss: 3.2841 - val_accuracy: 0.0000e+00\n",
      "Epoch 68/100\n",
      "10261/10261 [==============================] - 23s 2ms/step - loss: 3.6449 - accuracy: 0.0000e+00 - val_loss: 3.1743 - val_accuracy: 0.0000e+00\n",
      "Epoch 69/100\n",
      "10261/10261 [==============================] - 24s 2ms/step - loss: 3.5923 - accuracy: 0.0000e+00 - val_loss: 3.1205 - val_accuracy: 0.0000e+00\n",
      "Epoch 70/100\n",
      "10261/10261 [==============================] - 24s 2ms/step - loss: 3.6191 - accuracy: 0.0000e+00 - val_loss: 5.0728 - val_accuracy: 0.0000e+00\n",
      "Epoch 71/100\n",
      "10261/10261 [==============================] - 24s 2ms/step - loss: 3.6083 - accuracy: 0.0000e+00 - val_loss: 3.4147 - val_accuracy: 0.0000e+00\n",
      "Epoch 72/100\n",
      "10261/10261 [==============================] - 24s 2ms/step - loss: 3.6918 - accuracy: 0.0000e+00 - val_loss: 3.4315 - val_accuracy: 0.0000e+00\n",
      "Epoch 73/100\n",
      "10261/10261 [==============================] - 23s 2ms/step - loss: 3.6307 - accuracy: 0.0000e+00 - val_loss: 3.2404 - val_accuracy: 0.0000e+00\n",
      "Epoch 74/100\n",
      "10261/10261 [==============================] - 24s 2ms/step - loss: 3.6137 - accuracy: 0.0000e+00 - val_loss: 3.8678 - val_accuracy: 0.0000e+00\n",
      "Epoch 75/100\n",
      "10261/10261 [==============================] - 24s 2ms/step - loss: 3.5839 - accuracy: 0.0000e+00 - val_loss: 3.1327 - val_accuracy: 0.0000e+00\n",
      "Epoch 76/100\n",
      "10261/10261 [==============================] - 24s 2ms/step - loss: 3.6866 - accuracy: 0.0000e+00 - val_loss: 3.2837 - val_accuracy: 0.0000e+00\n",
      "Epoch 77/100\n",
      "10261/10261 [==============================] - 28s 3ms/step - loss: 3.5992 - accuracy: 0.0000e+00 - val_loss: 3.2200 - val_accuracy: 0.0000e+00\n",
      "Epoch 78/100\n",
      "10261/10261 [==============================] - 31s 3ms/step - loss: 3.6292 - accuracy: 0.0000e+00 - val_loss: 4.3331 - val_accuracy: 0.0000e+00\n",
      "Epoch 79/100\n",
      "10261/10261 [==============================] - 27s 3ms/step - loss: 3.6620 - accuracy: 0.0000e+00 - val_loss: 3.6252 - val_accuracy: 0.0000e+00\n",
      "Epoch 80/100\n",
      "10261/10261 [==============================] - 31s 3ms/step - loss: 3.5827 - accuracy: 0.0000e+00 - val_loss: 3.2288 - val_accuracy: 0.0000e+00\n",
      "Epoch 81/100\n",
      "10261/10261 [==============================] - 38s 4ms/step - loss: 3.5739 - accuracy: 0.0000e+00 - val_loss: 4.5907 - val_accuracy: 0.0000e+00\n",
      "Epoch 82/100\n",
      "10261/10261 [==============================] - 34s 3ms/step - loss: 3.6502 - accuracy: 0.0000e+00 - val_loss: 3.3491 - val_accuracy: 0.0000e+00\n",
      "Epoch 83/100\n",
      "10261/10261 [==============================] - 42s 4ms/step - loss: 3.6366 - accuracy: 0.0000e+00 - val_loss: 4.2257 - val_accuracy: 0.0000e+00\n",
      "Epoch 84/100\n",
      "10261/10261 [==============================] - 38s 4ms/step - loss: 3.6272 - accuracy: 0.0000e+00 - val_loss: 3.5884 - val_accuracy: 0.0000e+00\n",
      "Epoch 85/100\n",
      "10261/10261 [==============================] - 35s 3ms/step - loss: 3.6667 - accuracy: 0.0000e+00 - val_loss: 3.3587 - val_accuracy: 0.0000e+00\n",
      "Epoch 86/100\n",
      "10261/10261 [==============================] - 34s 3ms/step - loss: 3.5653 - accuracy: 0.0000e+00 - val_loss: 5.0549 - val_accuracy: 0.0000e+00\n",
      "Epoch 87/100\n",
      "10261/10261 [==============================] - 32s 3ms/step - loss: 3.6021 - accuracy: 0.0000e+00 - val_loss: 8.2980 - val_accuracy: 0.0000e+00\n",
      "Epoch 88/100\n",
      "10261/10261 [==============================] - 38s 4ms/step - loss: 3.6044 - accuracy: 0.0000e+00 - val_loss: 3.1581 - val_accuracy: 0.0000e+00\n",
      "Epoch 89/100\n",
      "10261/10261 [==============================] - 28s 3ms/step - loss: 3.5574 - accuracy: 0.0000e+00 - val_loss: 3.1492 - val_accuracy: 0.0000e+00\n",
      "Epoch 90/100\n",
      "10261/10261 [==============================] - 25s 2ms/step - loss: 3.5914 - accuracy: 0.0000e+00 - val_loss: 3.5411 - val_accuracy: 0.0000e+00\n",
      "Epoch 91/100\n",
      "10261/10261 [==============================] - 24s 2ms/step - loss: 3.5575 - accuracy: 0.0000e+00 - val_loss: 3.6301 - val_accuracy: 0.0000e+00\n",
      "Epoch 92/100\n",
      "10261/10261 [==============================] - 23s 2ms/step - loss: 3.5682 - accuracy: 0.0000e+00 - val_loss: 4.9227 - val_accuracy: 0.0000e+00\n",
      "Epoch 93/100\n",
      "10261/10261 [==============================] - 27s 3ms/step - loss: 3.5661 - accuracy: 0.0000e+00 - val_loss: 3.5924 - val_accuracy: 0.0000e+00\n",
      "Epoch 94/100\n",
      "10261/10261 [==============================] - 24s 2ms/step - loss: 3.6070 - accuracy: 0.0000e+00 - val_loss: 4.2350 - val_accuracy: 0.0000e+00\n",
      "Epoch 95/100\n",
      "10261/10261 [==============================] - 27s 3ms/step - loss: 3.6078 - accuracy: 0.0000e+00 - val_loss: 3.1478 - val_accuracy: 0.0000e+00\n",
      "Epoch 96/100\n",
      "10261/10261 [==============================] - 25s 2ms/step - loss: 3.5868 - accuracy: 0.0000e+00 - val_loss: 3.4219 - val_accuracy: 0.0000e+00\n",
      "Epoch 97/100\n",
      "10261/10261 [==============================] - 22s 2ms/step - loss: 3.5612 - accuracy: 0.0000e+00 - val_loss: 3.2166 - val_accuracy: 0.0000e+00\n",
      "Epoch 98/100\n",
      "10261/10261 [==============================] - 27s 3ms/step - loss: 3.5960 - accuracy: 0.0000e+00 - val_loss: 3.1701 - val_accuracy: 0.0000e+00\n",
      "Epoch 99/100\n",
      "10261/10261 [==============================] - 26s 3ms/step - loss: 3.5947 - accuracy: 0.0000e+00 - val_loss: 3.6767 - val_accuracy: 0.0000e+00\n",
      "Epoch 100/100\n",
      "10261/10261 [==============================] - 30s 3ms/step - loss: 3.5809 - accuracy: 0.0000e+00 - val_loss: 3.2339 - val_accuracy: 0.0000e+00\n"
     ]
    }
   ],
   "source": [
    "classifier.compile(optimizer = 'adam', loss = 'mean_squared_error', metrics = ['accuracy'])\n",
    "\n",
    "history=classifier.fit(x_train, y_train, batch_size = 10, epochs = 100, validation_data=(x_test,y_test))"
   ]
  },
  {
   "cell_type": "code",
   "execution_count": 7,
   "id": "03ad3147",
   "metadata": {},
   "outputs": [],
   "source": [
    "# Prediction\n",
    "\n",
    "y_pred = classifier.predict(x_test)"
   ]
  },
  {
   "cell_type": "code",
   "execution_count": 8,
   "id": "65097d44",
   "metadata": {},
   "outputs": [
    {
     "data": {
      "text/plain": [
       "3.2338529537069154"
      ]
     },
     "execution_count": 8,
     "metadata": {},
     "output_type": "execute_result"
    }
   ],
   "source": [
    "# Mean squared error\n",
    "\n",
    "from sklearn.metrics import mean_squared_error, r2_score\n",
    "\n",
    "mean_squared_error(y_test,y_pred)\n"
   ]
  },
  {
   "cell_type": "code",
   "execution_count": 9,
   "id": "6fde3f4f",
   "metadata": {},
   "outputs": [
    {
     "data": {
      "text/plain": [
       "0.9165912123538988"
      ]
     },
     "execution_count": 9,
     "metadata": {},
     "output_type": "execute_result"
    }
   ],
   "source": [
    "r2_score(y_test,y_pred)"
   ]
  },
  {
   "cell_type": "code",
   "execution_count": 10,
   "id": "613ac5b6",
   "metadata": {},
   "outputs": [
    {
     "data": {
      "image/png": "[encoded data removed]",
      "text/plain": [
       "<Figure size 432x288 with 1 Axes>"
      ]
     },
     "metadata": {
      "needs_background": "light"
     },
     "output_type": "display_data"
    }
   ],
   "source": [
    "import matplotlib.pyplot as plt\n",
    "\n",
    "plt.plot(history.history['loss'])\n",
    "plt.title('Model Loss')\n",
    "plt.ylabel('LOSS')\n",
    "plt.xlabel('EPOCH')\n",
    "plt.legend(['train'], loc='upper left')\n",
    "plt.show()"
   ]
  },
  {
   "cell_type": "code",
   "execution_count": 11,
   "id": "994d86fe",
   "metadata": {
    "scrolled": true
   },
   "outputs": [
    {
     "data": {
      "image/png": "[encoded data removed]",
      "text/plain": [
       "<Figure size 432x288 with 1 Axes>"
      ]
     },
     "metadata": {
      "needs_background": "light"
     },
     "output_type": "display_data"
    }
   ],
   "source": [
    "plt.plot(history.history['val_loss'])\n",
    "plt.title('Model Validation Loss')\n",
    "plt.ylabel('VAL LOSS')\n",
    "plt.xlabel('EPOCH')\n",
    "plt.legend(['train'], loc='upper left')\n",
    "plt.show()"
   ]
  },
  {
   "cell_type": "code",
   "execution_count": 12,
   "id": "8b347703",
   "metadata": {},
   "outputs": [
    {
     "data": {
      "image/png": "[encoded data removed]",
      "text/plain": [
       "<Figure size 432x288 with 1 Axes>"
      ]
     },
     "metadata": {
      "needs_background": "light"
     },
     "output_type": "display_data"
    }
   ],
   "source": [
    "plt.scatter(x=y_test, y=y_pred, c='navy', alpha=0.6)\n",
    "plt.plot(y_pred, y_pred,color='cyan')\n",
    "plt.title('Predicted vs Actual values')\n",
    "plt.xlabel('Actual values')\n",
    "plt.ylabel('Predicted values')\n",
    "plt.show()"
   ]
  },
  {
   "cell_type": "code",
   "execution_count": 29,
   "id": "1f945a4d",
   "metadata": {},
   "outputs": [],
   "source": [
    "filename = \"ANN.h5\"\n",
    "classifier.save(filename)"
   ]
  },
  {
   "cell_type": "code",
   "execution_count": 34,
   "id": "64192203",
   "metadata": {},
   "outputs": [
    {
     "data": {
      "text/plain": [
       "array([[-10.8672285]], dtype=float32)"
      ]
     },
     "execution_count": 34,
     "metadata": {},
     "output_type": "execute_result"
    }
   ],
   "source": [
    "# HFSS result = -11.69\n",
    "data=[]\n",
    "data.append([5.91,13.47,8.2,4.9])\n",
    "y_pr = classifier.predict(data)\n",
    "y_pr"
   ]
  },
  {
   "cell_type": "code",
   "execution_count": 33,
   "id": "db86e281",
   "metadata": {},
   "outputs": [
    {
     "data": {
      "text/plain": [
       "array([[-16.688274]], dtype=float32)"
      ]
     },
     "execution_count": 33,
     "metadata": {},
     "output_type": "execute_result"
    }
   ],
   "source": [
    "#HFSS result = -16.52\n",
    "\n",
    "data=[]\n",
    "data.append([5.4,14.75,8.25,5.2])\n",
    "y_pr = classifier.predict(data)\n",
    "y_pr"
   ]
  },
  {
   "cell_type": "code",
   "execution_count": null,
   "id": "a33d15cd",
   "metadata": {},
   "outputs": [],
   "source": []
  }
 ],
 "metadata": {
  "kernelspec": {
   "display_name": "Python 3 (ipykernel)",
   "language": "python",
   "name": "python3"
  },
  "language_info": {
   "codemirror_mode": {
    "name": "ipython",
    "version": 3
   },
   "file_extension": ".py",
   "mimetype": "text/x-python",
   "name": "python",
   "nbconvert_exporter": "python",
   "pygments_lexer": "ipython3",
   "version": "3.8.8"
  }
 },
 "nbformat": 4,
 "nbformat_minor": 5
}
