{
 "cells": [
  {
   "cell_type": "code",
   "execution_count": 1,
   "id": "4b05c8b8",
   "metadata": {},
   "outputs": [],
   "source": [
    "import pandas as pd\n",
    "from sklearn.model_selection import train_test_split\n",
    "import numpy\n"
   ]
  },
  {
   "cell_type": "code",
   "execution_count": 2,
   "id": "64011305",
   "metadata": {},
   "outputs": [],
   "source": [
    "dataset = pd.read_csv('apdra_dataset.csv')\n",
    "\n",
    "x = pd.DataFrame(dataset.iloc[:, 0:4].values)\n",
    "y = dataset.iloc[:, 4].values\n",
    "\n",
    "x_train, x_test, y_train, y_test = train_test_split(x, y, test_size = 0.2, random_state = 123)\n",
    "\n",
    "x_inp = [];\n",
    "y_inp = [];\n",
    "\n",
    "\n",
    "x_inp.extend(numpy.array(x_train))\n",
    "\n",
    "y_inp.extend(numpy.array(y_train))\n",
    "\n",
    "DATA_SIZE = 200000;\n",
    "\n",
    "decision_tree_w = 10;\n",
    "random_forest_w = 10;\n",
    "knn_w = 10;\n",
    "xg_boost_w = 10;\n",
    "\n",
    "total_w = decision_tree_w + random_forest_w + knn_w + xg_boost_w;\n",
    "\n",
    "def randomSample(low, high, size):\n",
    "    rand_rad = numpy.random.uniform(low, high, size)\n",
    "    for i in range(0, rand_rad.size):\n",
    "        rand_rad[i] = round(rand_rad[i], 2)\n",
    "    return rand_rad\n",
    "\n",
    "def genDataSet (size):\n",
    "    s = int(size);\n",
    "    rand_rad = randomSample(8, 10, s)\n",
    "    rand_height = randomSample(13, 15, s)\n",
    "    rand_freq = randomSample(3, 6, s)\n",
    "    rand_aperture = randomSample(5,6, s)\n",
    "\n",
    "    rand_x = []\n",
    "    for i in range(0, s):\n",
    "        rand_x.append([rand_aperture[i], rand_height[i], rand_rad[i], rand_freq[i]])\n",
    "    return rand_x\n",
    "    \n",
    "    \n"
   ]
  },
  {
   "cell_type": "code",
   "execution_count": 3,
   "id": "741e1126",
   "metadata": {},
   "outputs": [
    {
     "data": {
      "text/plain": [
       "117269"
      ]
     },
     "execution_count": 3,
     "metadata": {},
     "output_type": "execute_result"
    }
   ],
   "source": [
    "len(x_inp)"
   ]
  },
  {
   "cell_type": "code",
   "execution_count": 4,
   "id": "b3db4ccc",
   "metadata": {},
   "outputs": [],
   "source": [
    "# Decision Tree\n",
    "\n",
    "from sklearn.tree import DecisionTreeRegressor\n",
    "DTReg = DecisionTreeRegressor()\n",
    "DTReg.fit(x_train,y_train)\n",
    "\n",
    "x_gen = genDataSet(DATA_SIZE * (decision_tree_w/total_w))\n",
    "\n",
    "x_inp.extend(numpy.array(x_gen))\n",
    "y_inp.extend(numpy.array(DTReg.predict(x_gen)))"
   ]
  },
  {
   "cell_type": "code",
   "execution_count": 5,
   "id": "a5f549d0",
   "metadata": {},
   "outputs": [
    {
     "data": {
      "text/plain": [
       "167269"
      ]
     },
     "execution_count": 5,
     "metadata": {},
     "output_type": "execute_result"
    }
   ],
   "source": [
    "len(x_inp)"
   ]
  },
  {
   "cell_type": "code",
   "execution_count": 6,
   "id": "0db15aa1",
   "metadata": {},
   "outputs": [],
   "source": [
    "# KNN\n",
    "\n",
    "from sklearn.neighbors import KNeighborsRegressor\n",
    "\n",
    "knn = KNeighborsRegressor(n_neighbors=5)\n",
    " \n",
    "knn.fit(x_train, y_train)\n",
    "\n",
    "x_gen = genDataSet(DATA_SIZE * (knn_w/total_w))\n",
    "\n",
    "x_inp.extend(numpy.array(x_gen))\n",
    "y_inp.extend(numpy.array(knn.predict(x_gen)))\n"
   ]
  },
  {
   "cell_type": "code",
   "execution_count": 7,
   "id": "74e068e4",
   "metadata": {},
   "outputs": [
    {
     "data": {
      "text/plain": [
       "217269"
      ]
     },
     "execution_count": 7,
     "metadata": {},
     "output_type": "execute_result"
    }
   ],
   "source": [
    "len(x_inp)"
   ]
  },
  {
   "cell_type": "code",
   "execution_count": 8,
   "id": "75dc2c38",
   "metadata": {},
   "outputs": [],
   "source": [
    "# Random Forest\n",
    "\n",
    "\n",
    "from sklearn.ensemble import RandomForestRegressor\n",
    "\n",
    "RFreg = RandomForestRegressor(n_estimators = 10, random_state = 0)\n",
    "\n",
    "RFreg.fit(x_train,y_train)\n",
    "\n",
    "x_gen = genDataSet(DATA_SIZE * (random_forest_w/total_w))\n",
    "\n",
    "x_inp.extend(numpy.array(x_gen))\n",
    "y_inp.extend(numpy.array(RFreg.predict(x_gen)))\n"
   ]
  },
  {
   "cell_type": "code",
   "execution_count": 9,
   "id": "5a8b20e7",
   "metadata": {},
   "outputs": [
    {
     "data": {
      "text/plain": [
       "267269"
      ]
     },
     "execution_count": 9,
     "metadata": {},
     "output_type": "execute_result"
    }
   ],
   "source": [
    "len(x_inp)"
   ]
  },
  {
   "cell_type": "code",
   "execution_count": 10,
   "id": "5515c89f",
   "metadata": {},
   "outputs": [
    {
     "name": "stderr",
     "output_type": "stream",
     "text": [
      "C:\\Users\\iayus\\AppData\\Roaming\\Python\\Python38\\site-packages\\xgboost\\compat.py:36: FutureWarning: pandas.Int64Index is deprecated and will be removed from pandas in a future version. Use pandas.Index with the appropriate dtype instead.\n",
      "  from pandas import MultiIndex, Int64Index\n",
      "C:\\Users\\iayus\\AppData\\Roaming\\Python\\Python38\\site-packages\\xgboost\\data.py:262: FutureWarning: pandas.Int64Index is deprecated and will be removed from pandas in a future version. Use pandas.Index with the appropriate dtype instead.\n",
      "  elif isinstance(data.columns, (pd.Int64Index, pd.RangeIndex)):\n"
     ]
    },
    {
     "name": "stdout",
     "output_type": "stream",
     "text": [
      "[13:25:36] WARNING: C:/Users/Administrator/workspace/xgboost-win64_release_1.5.1/src/objective/regression_obj.cu:188: reg:linear is now deprecated in favor of reg:squarederror.\n"
     ]
    }
   ],
   "source": [
    "# XG Boost\n",
    "\n",
    "\n",
    "import xgboost as xgb\n",
    "\n",
    "xgb_reg = xgb.XGBRegressor(n_estimators=100, objective='reg:linear', seed = 123)\n",
    "\n",
    "# Train the model with train data sets\n",
    "xgb_reg.fit(x_train, y_train)\n",
    "\n",
    "x_gen = genDataSet(DATA_SIZE * (xg_boost_w/total_w))\n",
    "\n",
    "x_inp.extend(numpy.array(x_gen))\n",
    "y_inp.extend(numpy.array(xgb_reg.predict(numpy.array(x_gen))))\n"
   ]
  },
  {
   "cell_type": "code",
   "execution_count": 11,
   "id": "78abd514",
   "metadata": {},
   "outputs": [
    {
     "data": {
      "text/plain": [
       "317269"
      ]
     },
     "execution_count": 11,
     "metadata": {},
     "output_type": "execute_result"
    }
   ],
   "source": [
    "len(x_inp)"
   ]
  },
  {
   "cell_type": "code",
   "execution_count": 12,
   "id": "030787e8",
   "metadata": {},
   "outputs": [],
   "source": [
    "# KBNN\n",
    "\n",
    "import keras\n",
    "from keras.models import Sequential\n",
    "from keras.layers import Dense\n",
    "\n",
    "# Artificial NN\n",
    "\n",
    "classifier = Sequential()\n",
    "\n",
    "# Input Layer\n",
    "classifier.add(Dense(units = 6, activation = 'relu', input_dim = 4))\n",
    "\n",
    "# 1st Hidden Layer\n",
    "classifier.add(Dense(units = 8, activation = 'relu'))\n",
    "\n",
    "# 2nd Hidden Layer\n",
    "classifier.add(Dense(units = 3, activation = 'relu'))\n",
    "\n",
    "# Output Layer\n",
    "classifier.add(Dense(units = 1, activation = 'linear'))"
   ]
  },
  {
   "cell_type": "code",
   "execution_count": 13,
   "id": "cdbdf7b0",
   "metadata": {
    "scrolled": true
   },
   "outputs": [
    {
     "name": "stdout",
     "output_type": "stream",
     "text": [
      "Epoch 1/100\n",
      "31727/31727 [==============================] - 83s 3ms/step - loss: 22.9201 - accuracy: 0.0000e+00 - val_loss: 20.3392 - val_accuracy: 0.0000e+00\n",
      "Epoch 2/100\n",
      "31727/31727 [==============================] - 74s 2ms/step - loss: 17.6478 - accuracy: 0.0000e+00 - val_loss: 14.6599 - val_accuracy: 0.0000e+00\n",
      "Epoch 3/100\n",
      "31727/31727 [==============================] - 81s 3ms/step - loss: 8.5872 - accuracy: 0.0000e+00 - val_loss: 8.3315 - val_accuracy: 0.0000e+00\n",
      "Epoch 4/100\n",
      "31727/31727 [==============================] - 68s 2ms/step - loss: 5.5152 - accuracy: 0.0000e+00 - val_loss: 3.7969 - val_accuracy: 0.0000e+00\n",
      "Epoch 5/100\n",
      "31727/31727 [==============================] - 66s 2ms/step - loss: 4.8656 - accuracy: 0.0000e+00 - val_loss: 3.5181 - val_accuracy: 0.0000e+00\n",
      "Epoch 6/100\n",
      "31727/31727 [==============================] - 79s 2ms/step - loss: 4.4036 - accuracy: 0.0000e+00 - val_loss: 5.0522 - val_accuracy: 0.0000e+00\n",
      "Epoch 7/100\n",
      "31727/31727 [==============================] - 82s 3ms/step - loss: 4.2486 - accuracy: 0.0000e+00 - val_loss: 8.1532 - val_accuracy: 0.0000e+00\n",
      "Epoch 8/100\n",
      "31727/31727 [==============================] - 81s 3ms/step - loss: 4.0858 - accuracy: 0.0000e+00 - val_loss: 3.0887 - val_accuracy: 0.0000e+00\n",
      "Epoch 9/100\n",
      "31727/31727 [==============================] - 70s 2ms/step - loss: 3.9307 - accuracy: 0.0000e+00 - val_loss: 4.3989 - val_accuracy: 0.0000e+00\n",
      "Epoch 10/100\n",
      "31727/31727 [==============================] - 79s 2ms/step - loss: 3.9051 - accuracy: 0.0000e+00 - val_loss: 3.4349 - val_accuracy: 0.0000e+00\n",
      "Epoch 11/100\n",
      "31727/31727 [==============================] - 80s 3ms/step - loss: 3.9184 - accuracy: 0.0000e+00 - val_loss: 4.2802 - val_accuracy: 0.0000e+00\n",
      "Epoch 12/100\n",
      "31727/31727 [==============================] - 86s 3ms/step - loss: 3.8264 - accuracy: 0.0000e+00 - val_loss: 5.4777 - val_accuracy: 0.0000e+00\n",
      "Epoch 13/100\n",
      "31727/31727 [==============================] - 79s 2ms/step - loss: 3.7287 - accuracy: 0.0000e+00 - val_loss: 3.1903 - val_accuracy: 0.0000e+00\n",
      "Epoch 14/100\n",
      "31727/31727 [==============================] - 80s 3ms/step - loss: 3.7617 - accuracy: 0.0000e+00 - val_loss: 2.9271 - val_accuracy: 0.0000e+00\n",
      "Epoch 15/100\n",
      "31727/31727 [==============================] - 95s 3ms/step - loss: 3.7003 - accuracy: 0.0000e+00 - val_loss: 3.1183 - val_accuracy: 0.0000e+00\n",
      "Epoch 16/100\n",
      "31727/31727 [==============================] - 103s 3ms/step - loss: 3.6355 - accuracy: 0.0000e+00 - val_loss: 2.8177 - val_accuracy: 0.0000e+00\n",
      "Epoch 17/100\n",
      "31727/31727 [==============================] - 70s 2ms/step - loss: 3.5231 - accuracy: 0.0000e+00 - val_loss: 3.4572 - val_accuracy: 0.0000e+00\n",
      "Epoch 18/100\n",
      "31727/31727 [==============================] - 70s 2ms/step - loss: 3.3900 - accuracy: 0.0000e+00 - val_loss: 2.4479 - val_accuracy: 0.0000e+00\n",
      "Epoch 19/100\n",
      "31727/31727 [==============================] - 84s 3ms/step - loss: 3.3872 - accuracy: 0.0000e+00 - val_loss: 2.5031 - val_accuracy: 0.0000e+00\n",
      "Epoch 20/100\n",
      "31727/31727 [==============================] - 107s 3ms/step - loss: 3.2971 - accuracy: 0.0000e+00 - val_loss: 4.8990 - val_accuracy: 0.0000e+00\n",
      "Epoch 21/100\n",
      "31727/31727 [==============================] - 117s 4ms/step - loss: 3.3248 - accuracy: 0.0000e+00 - val_loss: 2.4131 - val_accuracy: 0.0000e+00\n",
      "Epoch 22/100\n",
      "31727/31727 [==============================] - 70s 2ms/step - loss: 3.2633 - accuracy: 0.0000e+00 - val_loss: 2.3832 - val_accuracy: 0.0000e+00\n",
      "Epoch 23/100\n",
      "31727/31727 [==============================] - 59s 2ms/step - loss: 3.2669 - accuracy: 0.0000e+00 - val_loss: 2.2284 - val_accuracy: 0.0000e+00\n",
      "Epoch 24/100\n",
      "31727/31727 [==============================] - 50s 2ms/step - loss: 3.2013 - accuracy: 0.0000e+00 - val_loss: 5.8995 - val_accuracy: 0.0000e+00\n",
      "Epoch 25/100\n",
      "31727/31727 [==============================] - 61s 2ms/step - loss: 3.1836 - accuracy: 0.0000e+00 - val_loss: 2.3728 - val_accuracy: 0.0000e+00\n",
      "Epoch 26/100\n",
      "31727/31727 [==============================] - 64s 2ms/step - loss: 3.1918 - accuracy: 0.0000e+00 - val_loss: 3.3591 - val_accuracy: 0.0000e+00\n",
      "Epoch 27/100\n",
      "31727/31727 [==============================] - 73s 2ms/step - loss: 3.0922 - accuracy: 0.0000e+00 - val_loss: 2.1717 - val_accuracy: 0.0000e+00\n",
      "Epoch 28/100\n",
      "31727/31727 [==============================] - 55s 2ms/step - loss: 3.1321 - accuracy: 0.0000e+00 - val_loss: 3.1769 - val_accuracy: 0.0000e+00\n",
      "Epoch 29/100\n",
      "31727/31727 [==============================] - 54s 2ms/step - loss: 3.1153 - accuracy: 0.0000e+00 - val_loss: 2.1387 - val_accuracy: 0.0000e+00\n",
      "Epoch 30/100\n",
      "31727/31727 [==============================] - 55s 2ms/step - loss: 3.1037 - accuracy: 0.0000e+00 - val_loss: 2.3358 - val_accuracy: 0.0000e+00\n",
      "Epoch 31/100\n",
      "31727/31727 [==============================] - 54s 2ms/step - loss: 3.0492 - accuracy: 0.0000e+00 - val_loss: 2.3148 - val_accuracy: 0.0000e+00\n",
      "Epoch 32/100\n",
      "31727/31727 [==============================] - 55s 2ms/step - loss: 3.0725 - accuracy: 0.0000e+00 - val_loss: 2.1004 - val_accuracy: 0.0000e+00\n",
      "Epoch 33/100\n",
      "31727/31727 [==============================] - 55s 2ms/step - loss: 3.0208 - accuracy: 0.0000e+00 - val_loss: 2.1634 - val_accuracy: 0.0000e+00\n",
      "Epoch 34/100\n",
      "31727/31727 [==============================] - 54s 2ms/step - loss: 3.0013 - accuracy: 0.0000e+00 - val_loss: 2.7975 - val_accuracy: 0.0000e+00\n",
      "Epoch 35/100\n",
      "31727/31727 [==============================] - 54s 2ms/step - loss: 3.0127 - accuracy: 0.0000e+00 - val_loss: 3.0266 - val_accuracy: 0.0000e+00\n",
      "Epoch 36/100\n",
      "31727/31727 [==============================] - 53s 2ms/step - loss: 2.9722 - accuracy: 0.0000e+00 - val_loss: 2.2904 - val_accuracy: 0.0000e+00\n",
      "Epoch 37/100\n",
      "31727/31727 [==============================] - 54s 2ms/step - loss: 2.9694 - accuracy: 0.0000e+00 - val_loss: 2.5823 - val_accuracy: 0.0000e+00\n",
      "Epoch 38/100\n",
      "31727/31727 [==============================] - 54s 2ms/step - loss: 2.9408 - accuracy: 0.0000e+00 - val_loss: 2.4658 - val_accuracy: 0.0000e+00\n",
      "Epoch 39/100\n",
      "31727/31727 [==============================] - 54s 2ms/step - loss: 2.9672 - accuracy: 0.0000e+00 - val_loss: 2.1857 - val_accuracy: 0.0000e+00\n",
      "Epoch 40/100\n",
      "31727/31727 [==============================] - 54s 2ms/step - loss: 2.9293 - accuracy: 0.0000e+00 - val_loss: 2.1495 - val_accuracy: 0.0000e+00\n",
      "Epoch 41/100\n",
      "31727/31727 [==============================] - 58s 2ms/step - loss: 2.9561 - accuracy: 0.0000e+00 - val_loss: 2.1739 - val_accuracy: 0.0000e+00\n",
      "Epoch 42/100\n",
      "31727/31727 [==============================] - 54s 2ms/step - loss: 2.9626 - accuracy: 0.0000e+00 - val_loss: 2.3320 - val_accuracy: 0.0000e+00\n",
      "Epoch 43/100\n",
      "31727/31727 [==============================] - 54s 2ms/step - loss: 2.8994 - accuracy: 0.0000e+00 - val_loss: 2.0960 - val_accuracy: 0.0000e+00\n",
      "Epoch 44/100\n",
      "31727/31727 [==============================] - 54s 2ms/step - loss: 2.9240 - accuracy: 0.0000e+00 - val_loss: 2.3213 - val_accuracy: 0.0000e+00\n",
      "Epoch 45/100\n",
      "31727/31727 [==============================] - 54s 2ms/step - loss: 2.8932 - accuracy: 0.0000e+00 - val_loss: 2.7135 - val_accuracy: 0.0000e+00\n",
      "Epoch 46/100\n",
      "31727/31727 [==============================] - 41s 1ms/step - loss: 2.8857 - accuracy: 0.0000e+00 - val_loss: 2.4321 - val_accuracy: 0.0000e+00\n",
      "Epoch 47/100\n",
      "31727/31727 [==============================] - 48s 2ms/step - loss: 2.8529 - accuracy: 0.0000e+00 - val_loss: 2.0280 - val_accuracy: 0.0000e+00\n",
      "Epoch 48/100\n",
      "31727/31727 [==============================] - 55s 2ms/step - loss: 2.8671 - accuracy: 0.0000e+00 - val_loss: 2.5635 - val_accuracy: 0.0000e+00\n",
      "Epoch 49/100\n",
      "31727/31727 [==============================] - 66s 2ms/step - loss: 2.8850 - accuracy: 0.0000e+00 - val_loss: 2.1813 - val_accuracy: 0.0000e+00\n",
      "Epoch 50/100\n",
      "31727/31727 [==============================] - 61s 2ms/step - loss: 2.8682 - accuracy: 0.0000e+00 - val_loss: 2.0936 - val_accuracy: 0.0000e+00\n",
      "Epoch 51/100\n",
      "31727/31727 [==============================] - 62s 2ms/step - loss: 2.8249 - accuracy: 0.0000e+00 - val_loss: 3.2170 - val_accuracy: 0.0000e+00\n",
      "Epoch 52/100\n",
      "31727/31727 [==============================] - 61s 2ms/step - loss: 2.8338 - accuracy: 0.0000e+00 - val_loss: 2.0205 - val_accuracy: 0.0000e+00\n",
      "Epoch 53/100\n"
     ]
    },
    {
     "name": "stdout",
     "output_type": "stream",
     "text": [
      "31727/31727 [==============================] - 64s 2ms/step - loss: 2.8147 - accuracy: 0.0000e+00 - val_loss: 1.9949 - val_accuracy: 0.0000e+00\n",
      "Epoch 54/100\n",
      "31727/31727 [==============================] - 66s 2ms/step - loss: 2.7858 - accuracy: 0.0000e+00 - val_loss: 3.0031 - val_accuracy: 0.0000e+00\n",
      "Epoch 55/100\n",
      "31727/31727 [==============================] - 70s 2ms/step - loss: 2.8452 - accuracy: 0.0000e+00 - val_loss: 2.0987 - val_accuracy: 0.0000e+00\n",
      "Epoch 56/100\n",
      "31727/31727 [==============================] - 59s 2ms/step - loss: 2.8053 - accuracy: 0.0000e+00 - val_loss: 2.9010 - val_accuracy: 0.0000e+00\n",
      "Epoch 57/100\n",
      "31727/31727 [==============================] - 58s 2ms/step - loss: 2.7717 - accuracy: 0.0000e+00 - val_loss: 1.9550 - val_accuracy: 0.0000e+00\n",
      "Epoch 58/100\n",
      "31727/31727 [==============================] - 59s 2ms/step - loss: 2.7803 - accuracy: 0.0000e+00 - val_loss: 1.9949 - val_accuracy: 0.0000e+00\n",
      "Epoch 59/100\n",
      "31727/31727 [==============================] - 58s 2ms/step - loss: 2.7808 - accuracy: 0.0000e+00 - val_loss: 2.8387 - val_accuracy: 0.0000e+00\n",
      "Epoch 60/100\n",
      "31727/31727 [==============================] - 60s 2ms/step - loss: 2.7968 - accuracy: 0.0000e+00 - val_loss: 2.0018 - val_accuracy: 0.0000e+00\n",
      "Epoch 61/100\n",
      "31727/31727 [==============================] - 58s 2ms/step - loss: 2.7766 - accuracy: 0.0000e+00 - val_loss: 1.9256 - val_accuracy: 0.0000e+00\n",
      "Epoch 62/100\n",
      "31727/31727 [==============================] - 63s 2ms/step - loss: 2.8067 - accuracy: 0.0000e+00 - val_loss: 2.3015 - val_accuracy: 0.0000e+00\n",
      "Epoch 63/100\n",
      "31727/31727 [==============================] - 57s 2ms/step - loss: 2.7790 - accuracy: 0.0000e+00 - val_loss: 2.0727 - val_accuracy: 0.0000e+00\n",
      "Epoch 64/100\n",
      "31727/31727 [==============================] - 56s 2ms/step - loss: 2.7505 - accuracy: 0.0000e+00 - val_loss: 1.9956 - val_accuracy: 0.0000e+00\n",
      "Epoch 65/100\n",
      "31727/31727 [==============================] - 57s 2ms/step - loss: 2.7903 - accuracy: 0.0000e+00 - val_loss: 2.5937 - val_accuracy: 0.0000e+00\n",
      "Epoch 66/100\n",
      "31727/31727 [==============================] - 58s 2ms/step - loss: 2.7367 - accuracy: 0.0000e+00 - val_loss: 2.9438 - val_accuracy: 0.0000e+00\n",
      "Epoch 67/100\n",
      "31727/31727 [==============================] - 57s 2ms/step - loss: 2.7694 - accuracy: 0.0000e+00 - val_loss: 2.6305 - val_accuracy: 0.0000e+00\n",
      "Epoch 68/100\n",
      "31727/31727 [==============================] - 56s 2ms/step - loss: 2.7656 - accuracy: 0.0000e+00 - val_loss: 4.9743 - val_accuracy: 0.0000e+00\n",
      "Epoch 69/100\n",
      "31727/31727 [==============================] - 55s 2ms/step - loss: 2.7733 - accuracy: 0.0000e+00 - val_loss: 4.3716 - val_accuracy: 0.0000e+00\n",
      "Epoch 70/100\n",
      "31727/31727 [==============================] - 64s 2ms/step - loss: 2.7623 - accuracy: 0.0000e+00 - val_loss: 2.5614 - val_accuracy: 0.0000e+00\n",
      "Epoch 71/100\n",
      "31727/31727 [==============================] - 60s 2ms/step - loss: 2.7508 - accuracy: 0.0000e+00 - val_loss: 2.4281 - val_accuracy: 0.0000e+00\n",
      "Epoch 72/100\n",
      "31727/31727 [==============================] - 60s 2ms/step - loss: 2.7580 - accuracy: 0.0000e+00 - val_loss: 1.9470 - val_accuracy: 0.0000e+00\n",
      "Epoch 73/100\n",
      "31727/31727 [==============================] - 61s 2ms/step - loss: 2.7426 - accuracy: 0.0000e+00 - val_loss: 2.1146 - val_accuracy: 0.0000e+00\n",
      "Epoch 74/100\n",
      "31727/31727 [==============================] - 61s 2ms/step - loss: 2.7362 - accuracy: 0.0000e+00 - val_loss: 2.1034 - val_accuracy: 0.0000e+00\n",
      "Epoch 75/100\n",
      "31727/31727 [==============================] - 61s 2ms/step - loss: 2.7197 - accuracy: 0.0000e+00 - val_loss: 2.0818 - val_accuracy: 0.0000e+00\n",
      "Epoch 76/100\n",
      "31727/31727 [==============================] - 61s 2ms/step - loss: 2.7337 - accuracy: 0.0000e+00 - val_loss: 2.6594 - val_accuracy: 0.0000e+00\n",
      "Epoch 77/100\n",
      "31727/31727 [==============================] - 61s 2ms/step - loss: 2.7139 - accuracy: 0.0000e+00 - val_loss: 2.5686 - val_accuracy: 0.0000e+00\n",
      "Epoch 78/100\n",
      "31727/31727 [==============================] - 72s 2ms/step - loss: 2.7125 - accuracy: 0.0000e+00 - val_loss: 4.1747 - val_accuracy: 0.0000e+00\n",
      "Epoch 79/100\n",
      "31727/31727 [==============================] - 77s 2ms/step - loss: 2.6932 - accuracy: 0.0000e+00 - val_loss: 4.4402 - val_accuracy: 0.0000e+00\n",
      "Epoch 80/100\n",
      "31727/31727 [==============================] - 97s 3ms/step - loss: 2.7456 - accuracy: 0.0000e+00 - val_loss: 1.9922 - val_accuracy: 0.0000e+00\n",
      "Epoch 81/100\n",
      "31727/31727 [==============================] - 93s 3ms/step - loss: 2.6832 - accuracy: 0.0000e+00 - val_loss: 2.2384 - val_accuracy: 0.0000e+00\n",
      "Epoch 82/100\n",
      "31727/31727 [==============================] - 89s 3ms/step - loss: 2.7080 - accuracy: 0.0000e+00 - val_loss: 4.1379 - val_accuracy: 0.0000e+00\n",
      "Epoch 83/100\n",
      "31727/31727 [==============================] - 68s 2ms/step - loss: 2.6840 - accuracy: 0.0000e+00 - val_loss: 2.1309 - val_accuracy: 0.0000e+00\n",
      "Epoch 84/100\n",
      "31727/31727 [==============================] - 63s 2ms/step - loss: 2.6790 - accuracy: 0.0000e+00 - val_loss: 2.2714 - val_accuracy: 0.0000e+00\n",
      "Epoch 85/100\n",
      "31727/31727 [==============================] - 66s 2ms/step - loss: 2.6931 - accuracy: 0.0000e+00 - val_loss: 4.7080 - val_accuracy: 0.0000e+00\n",
      "Epoch 86/100\n",
      "31727/31727 [==============================] - 62s 2ms/step - loss: 2.6720 - accuracy: 0.0000e+00 - val_loss: 2.2274 - val_accuracy: 0.0000e+00\n",
      "Epoch 87/100\n",
      "31727/31727 [==============================] - 67s 2ms/step - loss: 2.6989 - accuracy: 0.0000e+00 - val_loss: 1.9438 - val_accuracy: 0.0000e+00\n",
      "Epoch 88/100\n",
      "31727/31727 [==============================] - 65s 2ms/step - loss: 2.6927 - accuracy: 0.0000e+00 - val_loss: 2.1415 - val_accuracy: 0.0000e+00\n",
      "Epoch 89/100\n",
      "31727/31727 [==============================] - 62s 2ms/step - loss: 2.6621 - accuracy: 0.0000e+00 - val_loss: 3.3391 - val_accuracy: 0.0000e+00\n",
      "Epoch 90/100\n",
      "31727/31727 [==============================] - 75s 2ms/step - loss: 2.6970 - accuracy: 0.0000e+00 - val_loss: 2.2846 - val_accuracy: 0.0000e+00\n",
      "Epoch 91/100\n",
      "31727/31727 [==============================] - 66s 2ms/step - loss: 2.6642 - accuracy: 0.0000e+00 - val_loss: 2.2407 - val_accuracy: 0.0000e+00\n",
      "Epoch 92/100\n",
      "31727/31727 [==============================] - 85s 3ms/step - loss: 2.6631 - accuracy: 0.0000e+00 - val_loss: 1.9874 - val_accuracy: 0.0000e+00\n",
      "Epoch 93/100\n",
      "31727/31727 [==============================] - 86s 3ms/step - loss: 2.6723 - accuracy: 0.0000e+00 - val_loss: 2.0654 - val_accuracy: 0.0000e+00\n",
      "Epoch 94/100\n",
      "31727/31727 [==============================] - 93s 3ms/step - loss: 2.6769 - accuracy: 0.0000e+00 - val_loss: 2.6162 - val_accuracy: 0.0000e+00\n",
      "Epoch 95/100\n",
      "31727/31727 [==============================] - 85s 3ms/step - loss: 2.6335 - accuracy: 0.0000e+00 - val_loss: 2.5904 - val_accuracy: 0.0000e+00\n",
      "Epoch 96/100\n",
      "31727/31727 [==============================] - 84s 3ms/step - loss: 2.6679 - accuracy: 0.0000e+00 - val_loss: 2.0130 - val_accuracy: 0.0000e+00\n",
      "Epoch 97/100\n",
      "31727/31727 [==============================] - 94s 3ms/step - loss: 2.6672 - accuracy: 0.0000e+00 - val_loss: 1.9034 - val_accuracy: 0.0000e+00\n",
      "Epoch 98/100\n",
      "31727/31727 [==============================] - 91s 3ms/step - loss: 2.6669 - accuracy: 0.0000e+00 - val_loss: 3.6648 - val_accuracy: 0.0000e+00\n",
      "Epoch 99/100\n",
      "31727/31727 [==============================] - 83s 3ms/step - loss: 2.6173 - accuracy: 0.0000e+00 - val_loss: 2.5643 - val_accuracy: 0.0000e+00\n",
      "Epoch 100/100\n",
      "31727/31727 [==============================] - 82s 3ms/step - loss: 2.6494 - accuracy: 0.0000e+00 - val_loss: 2.3294 - val_accuracy: 0.0000e+00\n"
     ]
    }
   ],
   "source": [
    "x_inp = numpy.asarray(x_inp).astype(numpy.float32)\n",
    "y_inp = numpy.asarray(y_inp).astype(numpy.float32)\n",
    "\n",
    "# Training\n",
    "\n",
    "classifier.compile(optimizer = 'adam', loss = 'mean_squared_error', metrics = ['accuracy'])\n",
    "\n",
    "history=classifier.fit(x_inp, y_inp, batch_size = 10, epochs = 100, validation_data=(x_test,y_test))"
   ]
  },
  {
   "cell_type": "code",
   "execution_count": 14,
   "id": "f96fcb20",
   "metadata": {},
   "outputs": [
    {
     "data": {
      "text/plain": [
       "array([-9.114005 , -7.68302  , -2.8562562, ..., -6.8050523, -7.9588237,\n",
       "       -7.375752 ], dtype=float32)"
      ]
     },
     "execution_count": 14,
     "metadata": {},
     "output_type": "execute_result"
    }
   ],
   "source": [
    "y_inp"
   ]
  },
  {
   "cell_type": "code",
   "execution_count": 15,
   "id": "1f1cab50",
   "metadata": {},
   "outputs": [
    {
     "data": {
      "image/png": "[encoded data removed]",
      "text/plain": [
       "<Figure size 432x288 with 1 Axes>"
      ]
     },
     "metadata": {
      "needs_background": "light"
     },
     "output_type": "display_data"
    },
    {
     "data": {
      "image/png": "[encoded data removed]",
      "text/plain": [
       "<Figure size 432x288 with 1 Axes>"
      ]
     },
     "metadata": {
      "needs_background": "light"
     },
     "output_type": "display_data"
    },
    {
     "data": {
      "image/png": "[encoded data removed]",
      "text/plain": [
       "<Figure size 432x288 with 1 Axes>"
      ]
     },
     "metadata": {
      "needs_background": "light"
     },
     "output_type": "display_data"
    }
   ],
   "source": [
    "# Prediction\n",
    "\n",
    "from sklearn.metrics import mean_squared_error\n",
    "from sklearn.metrics import r2_score\n",
    "import matplotlib.pyplot as plt\n",
    "\n",
    "y_pred = classifier.predict(x_test)\n",
    "mean_squared_error(y_test,y_pred)\n",
    "r2_score(y_test, y_pred)\n",
    "\n",
    "plt.plot(history.history['loss'])\n",
    "plt.title('Model Loss')\n",
    "plt.ylabel('LOSS')\n",
    "plt.xlabel('EPOCH')\n",
    "plt.legend(['train'], loc='upper left')\n",
    "plt.show()\n",
    "\n",
    "plt.plot(history.history['val_loss'])\n",
    "plt.title('Model Validation Loss')\n",
    "plt.ylabel('VAL LOSS')\n",
    "plt.xlabel('EPOCH')\n",
    "plt.legend(['train'], loc='upper left')\n",
    "plt.show()\n",
    "\n",
    "def generatePredictionPlot(y_pred, y_test):\n",
    "    plt.scatter(x=y_test, y=y_pred, c='navy', alpha=0.6)\n",
    "    plt.plot(y_test, y_test,color='cyan')\n",
    "    plt.title('Predicted vs Actual values')\n",
    "    plt.xlabel('Actual values')\n",
    "    plt.ylabel('Predicted values')\n",
    "    plt.show()\n",
    "    \n",
    "generatePredictionPlot(y_pred, y_test)"
   ]
  },
  {
   "cell_type": "code",
   "execution_count": 16,
   "id": "8089312b",
   "metadata": {},
   "outputs": [
    {
     "data": {
      "text/plain": [
       "2.3293880049554385"
      ]
     },
     "execution_count": 16,
     "metadata": {},
     "output_type": "execute_result"
    }
   ],
   "source": [
    "mean_squared_error(y_test,y_pred)"
   ]
  },
  {
   "cell_type": "code",
   "execution_count": 17,
   "id": "1c950c4f",
   "metadata": {},
   "outputs": [
    {
     "data": {
      "text/plain": [
       "0.9397005358666133"
      ]
     },
     "execution_count": 17,
     "metadata": {},
     "output_type": "execute_result"
    }
   ],
   "source": [
    "r2_score(y_test, y_pred)"
   ]
  },
  {
   "cell_type": "code",
   "execution_count": null,
   "id": "f25ff49e",
   "metadata": {},
   "outputs": [],
   "source": [
    "import numpy\n",
    "import pandas\n",
    "\n",
    "SAMPLE_SIZE = 10\n",
    "\n",
    "def randomSample(low, high, size):\n",
    "    rand_rad = numpy.random.uniform(low, high, size)\n",
    "    for i in range(0, rand_rad.size):\n",
    "        rand_rad[i] = round(rand_rad[i], 2)\n",
    "    return rand_rad\n",
    "\n",
    "\n",
    "rand_rad = randomSample(8, 10, SAMPLE_SIZE)\n",
    "rand_height = randomSample(13, 15, SAMPLE_SIZE)\n",
    "rand_freq = randomSample(3, 6, SAMPLE_SIZE)\n",
    "rand_aperture = randomSample(5,6, SAMPLE_SIZE)\n",
    "\n",
    "rand_x = []\n",
    "for i in range(0,SAMPLE_SIZE):\n",
    "    rand_x.append([rand_aperture[i], rand_height[i], rand_rad[i], rand_freq[i]])\n",
    "\n",
    "y_pred_rand = classifier.predict(rand_x)\n",
    "\n",
    "print(\"Predicted Values for random samples\\n\")\n",
    "\n",
    "output = []\n",
    "for i in range(0, SAMPLE_SIZE):\n",
    "    output.append([rand_aperture[i], rand_height[i], rand_rad[i], rand_freq[i], y_pred_rand[i]])\n",
    "    \n",
    "print(output)"
   ]
  }
 ],
 "metadata": {
  "kernelspec": {
   "display_name": "Python 3 (ipykernel)",
   "language": "python",
   "name": "python3"
  },
  "language_info": {
   "codemirror_mode": {
    "name": "ipython",
    "version": 3
   },
   "file_extension": ".py",
   "mimetype": "text/x-python",
   "name": "python",
   "nbconvert_exporter": "python",
   "pygments_lexer": "ipython3",
   "version": "3.8.8"
  }
 },
 "nbformat": 4,
 "nbformat_minor": 5
}
