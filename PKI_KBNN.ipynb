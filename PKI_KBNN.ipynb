{
 "cells": [
  {
   "cell_type": "code",
   "execution_count": 1,
   "id": "4b05c8b8",
   "metadata": {},
   "outputs": [],
   "source": [
    "import pandas as pd\n",
    "from sklearn.model_selection import train_test_split\n",
    "import numpy\n",
    "from sklearn.metrics import mean_squared_error"
   ]
  },
  {
   "cell_type": "code",
   "execution_count": 2,
   "id": "64011305",
   "metadata": {},
   "outputs": [],
   "source": [
    "dataset = pd.read_csv('apdra_dataset.csv')\n",
    "\n",
    "x = pd.DataFrame(dataset.iloc[:, 0:4].values)\n",
    "y = dataset.iloc[:, 4].values\n",
    "\n",
    "x_train, x_test, y_train, y_test = train_test_split(x, y, test_size = 0.2, random_state = 123)\n",
    "\n",
    "x_inp = [];\n",
    "y_inp = [];\n",
    "\n",
    "\n",
    "x_inp.extend(numpy.array(x_train))\n",
    "\n",
    "y_inp.extend(numpy.array(y_train))\n",
    "\n",
    "DATA_SIZE = 100000;\n",
    "\n",
    "decision_tree_w = 10;\n",
    "random_forest_w = 10;\n",
    "knn_w = 10;\n",
    "xg_boost_w = 4;\n",
    "\n",
    "total_w = decision_tree_w + random_forest_w + knn_w + xg_boost_w;\n",
    "\n",
    "def randomSample(low, high, size):\n",
    "    rand_rad = numpy.random.uniform(low, high, size)\n",
    "    for i in range(0, rand_rad.size):\n",
    "        rand_rad[i] = round(rand_rad[i], 2)\n",
    "    return rand_rad\n",
    "\n",
    "def genDataSet (size):\n",
    "    s = int(size);\n",
    "    rand_rad = randomSample(8, 10, s)\n",
    "    rand_height = randomSample(13, 15, s)\n",
    "    rand_freq = randomSample(3, 6, s)\n",
    "    rand_aperture = randomSample(5,6, s)\n",
    "\n",
    "    rand_x = []\n",
    "    for i in range(0, s):\n",
    "        rand_x.append([rand_aperture[i], rand_height[i], rand_rad[i], rand_freq[i]])\n",
    "    return rand_x\n",
    "    \n",
    "    \n"
   ]
  },
  {
   "cell_type": "code",
   "execution_count": 3,
   "id": "741e1126",
   "metadata": {},
   "outputs": [
    {
     "data": {
      "text/plain": [
       "117269"
      ]
     },
     "execution_count": 3,
     "metadata": {},
     "output_type": "execute_result"
    }
   ],
   "source": [
    "len(x_inp)"
   ]
  },
  {
   "cell_type": "code",
   "execution_count": 4,
   "id": "b3db4ccc",
   "metadata": {},
   "outputs": [
    {
     "data": {
      "text/plain": [
       "0.45140060995030834"
      ]
     },
     "execution_count": 4,
     "metadata": {},
     "output_type": "execute_result"
    }
   ],
   "source": [
    "# Decision Tree\n",
    "\n",
    "from sklearn.tree import DecisionTreeRegressor\n",
    "DTReg = DecisionTreeRegressor()\n",
    "DTReg.fit(x_train,y_train)\n",
    "\n",
    "x_gen = genDataSet(DATA_SIZE * (decision_tree_w/total_w))\n",
    "\n",
    "x_inp.extend(numpy.array(x_gen))\n",
    "y_inp.extend(numpy.array(DTReg.predict(x_gen)))\n",
    "\n",
    "mean_squared_error(y_test, DTReg.predict(x_test))"
   ]
  },
  {
   "cell_type": "code",
   "execution_count": 5,
   "id": "a5f549d0",
   "metadata": {},
   "outputs": [
    {
     "data": {
      "text/plain": [
       "146680"
      ]
     },
     "execution_count": 5,
     "metadata": {},
     "output_type": "execute_result"
    }
   ],
   "source": [
    "len(x_inp)"
   ]
  },
  {
   "cell_type": "code",
   "execution_count": 6,
   "id": "0db15aa1",
   "metadata": {},
   "outputs": [
    {
     "data": {
      "text/plain": [
       "0.18931963678868044"
      ]
     },
     "execution_count": 6,
     "metadata": {},
     "output_type": "execute_result"
    }
   ],
   "source": [
    "# KNN\n",
    "\n",
    "from sklearn.neighbors import KNeighborsRegressor\n",
    "\n",
    "knn = KNeighborsRegressor(n_neighbors=5)\n",
    " \n",
    "knn.fit(x_train, y_train)\n",
    "\n",
    "x_gen = genDataSet(DATA_SIZE * (knn_w/total_w))\n",
    "\n",
    "x_inp.extend(numpy.array(x_gen))\n",
    "y_inp.extend(numpy.array(knn.predict(x_gen)))\n",
    "\n",
    "mean_squared_error(y_test, knn.predict(x_test))"
   ]
  },
  {
   "cell_type": "code",
   "execution_count": 7,
   "id": "74e068e4",
   "metadata": {},
   "outputs": [
    {
     "data": {
      "text/plain": [
       "176091"
      ]
     },
     "execution_count": 7,
     "metadata": {},
     "output_type": "execute_result"
    }
   ],
   "source": [
    "len(x_inp)"
   ]
  },
  {
   "cell_type": "code",
   "execution_count": 8,
   "id": "75dc2c38",
   "metadata": {},
   "outputs": [
    {
     "data": {
      "text/plain": [
       "0.2954541785068113"
      ]
     },
     "execution_count": 8,
     "metadata": {},
     "output_type": "execute_result"
    }
   ],
   "source": [
    "# Random Forest\n",
    "\n",
    "\n",
    "from sklearn.ensemble import RandomForestRegressor\n",
    "\n",
    "RFreg = RandomForestRegressor(n_estimators = 10, random_state = 0)\n",
    "\n",
    "RFreg.fit(x_train,y_train)\n",
    "\n",
    "x_gen = genDataSet(DATA_SIZE * (random_forest_w/total_w))\n",
    "\n",
    "x_inp.extend(numpy.array(x_gen))\n",
    "y_inp.extend(numpy.array(RFreg.predict(x_gen)))\n",
    "\n",
    "mean_squared_error(y_test, RFreg.predict(x_test))"
   ]
  },
  {
   "cell_type": "code",
   "execution_count": 9,
   "id": "5a8b20e7",
   "metadata": {},
   "outputs": [
    {
     "data": {
      "text/plain": [
       "205502"
      ]
     },
     "execution_count": 9,
     "metadata": {},
     "output_type": "execute_result"
    }
   ],
   "source": [
    "len(x_inp)"
   ]
  },
  {
   "cell_type": "code",
   "execution_count": 10,
   "id": "5515c89f",
   "metadata": {},
   "outputs": [
    {
     "name": "stderr",
     "output_type": "stream",
     "text": [
      "C:\\Users\\iayus\\AppData\\Roaming\\Python\\Python38\\site-packages\\xgboost\\compat.py:36: FutureWarning: pandas.Int64Index is deprecated and will be removed from pandas in a future version. Use pandas.Index with the appropriate dtype instead.\n",
      "  from pandas import MultiIndex, Int64Index\n",
      "C:\\Users\\iayus\\AppData\\Roaming\\Python\\Python38\\site-packages\\xgboost\\data.py:262: FutureWarning: pandas.Int64Index is deprecated and will be removed from pandas in a future version. Use pandas.Index with the appropriate dtype instead.\n",
      "  elif isinstance(data.columns, (pd.Int64Index, pd.RangeIndex)):\n"
     ]
    },
    {
     "name": "stdout",
     "output_type": "stream",
     "text": [
      "[15:05:51] WARNING: C:/Users/Administrator/workspace/xgboost-win64_release_1.5.1/src/objective/regression_obj.cu:188: reg:linear is now deprecated in favor of reg:squarederror.\n"
     ]
    },
    {
     "data": {
      "text/plain": [
       "1.737558725451974"
      ]
     },
     "execution_count": 10,
     "metadata": {},
     "output_type": "execute_result"
    }
   ],
   "source": [
    "# XG Boost\n",
    "\n",
    "\n",
    "import xgboost as xgb\n",
    "\n",
    "xgb_reg = xgb.XGBRegressor(n_estimators=100, objective='reg:linear', seed = 123)\n",
    "\n",
    "# Train the model with train data sets\n",
    "xgb_reg.fit(x_train, y_train)\n",
    "\n",
    "x_gen = genDataSet(DATA_SIZE * (xg_boost_w/total_w))\n",
    "\n",
    "x_inp.extend(numpy.array(x_gen))\n",
    "y_inp.extend(numpy.array(xgb_reg.predict(numpy.array(x_gen))))\n",
    "\n",
    "mean_squared_error(y_test, xgb_reg.predict(numpy.array(x_test)))"
   ]
  },
  {
   "cell_type": "code",
   "execution_count": 11,
   "id": "78abd514",
   "metadata": {},
   "outputs": [
    {
     "data": {
      "text/plain": [
       "217266"
      ]
     },
     "execution_count": 11,
     "metadata": {},
     "output_type": "execute_result"
    }
   ],
   "source": [
    "len(x_inp)"
   ]
  },
  {
   "cell_type": "code",
   "execution_count": 12,
   "id": "030787e8",
   "metadata": {},
   "outputs": [],
   "source": [
    "# KBNN\n",
    "\n",
    "import keras\n",
    "from keras.models import Sequential\n",
    "from keras.layers import Dense\n",
    "\n",
    "# Artificial NN\n",
    "\n",
    "classifier = Sequential()\n",
    "\n",
    "#Input layer\n",
    "classifier.add(Dense(units = 8, activation = 'relu', input_dim = 4))\n",
    "\n",
    "# 1st Hidden Layer\n",
    "classifier.add(Dense(units = 12, activation = 'sigmoid'))\n",
    "\n",
    "# 2nd Hidden Layer\n",
    "classifier.add(Dense(units = 10, activation = 'sigmoid'))\n",
    "\n",
    "# 3rd Hidden Layer\n",
    "classifier.add(Dense(units = 8, activation = 'sigmoid'))\n",
    "\n",
    "# Output Layer\n",
    "classifier.add(Dense(units = 1, activation = 'linear'))"
   ]
  },
  {
   "cell_type": "code",
   "execution_count": 13,
   "id": "cdbdf7b0",
   "metadata": {
    "scrolled": true
   },
   "outputs": [
    {
     "name": "stdout",
     "output_type": "stream",
     "text": [
      "Epoch 1/100\n",
      "21727/21727 [==============================] - 69s 3ms/step - loss: 28.1480 - accuracy: 0.0000e+00 - val_loss: 21.5116 - val_accuracy: 0.0000e+00\n",
      "Epoch 2/100\n",
      "21727/21727 [==============================] - 61s 3ms/step - loss: 21.0129 - accuracy: 0.0000e+00 - val_loss: 20.0207 - val_accuracy: 0.0000e+00\n",
      "Epoch 3/100\n",
      "21727/21727 [==============================] - 62s 3ms/step - loss: 19.5196 - accuracy: 0.0000e+00 - val_loss: 17.7759 - val_accuracy: 0.0000e+00\n",
      "Epoch 4/100\n",
      "21727/21727 [==============================] - 69s 3ms/step - loss: 16.3634 - accuracy: 0.0000e+00 - val_loss: 18.0356 - val_accuracy: 0.0000e+00\n",
      "Epoch 5/100\n",
      "21727/21727 [==============================] - 59s 3ms/step - loss: 14.4225 - accuracy: 0.0000e+00 - val_loss: 13.0094 - val_accuracy: 0.0000e+00\n",
      "Epoch 6/100\n",
      "21727/21727 [==============================] - 58s 3ms/step - loss: 12.0621 - accuracy: 0.0000e+00 - val_loss: 11.1106 - val_accuracy: 0.0000e+00\n",
      "Epoch 7/100\n",
      "21727/21727 [==============================] - 66s 3ms/step - loss: 9.0764 - accuracy: 0.0000e+00 - val_loss: 8.6424 - val_accuracy: 0.0000e+00\n",
      "Epoch 8/100\n",
      "21727/21727 [==============================] - 69s 3ms/step - loss: 7.1690 - accuracy: 0.0000e+00 - val_loss: 7.2129 - val_accuracy: 0.0000e+00\n",
      "Epoch 9/100\n",
      "21727/21727 [==============================] - 68s 3ms/step - loss: 5.9906 - accuracy: 0.0000e+00 - val_loss: 4.9229 - val_accuracy: 0.0000e+00\n",
      "Epoch 10/100\n",
      "21727/21727 [==============================] - 58s 3ms/step - loss: 5.1061 - accuracy: 0.0000e+00 - val_loss: 4.8248 - val_accuracy: 0.0000e+00\n",
      "Epoch 11/100\n",
      "21727/21727 [==============================] - 63s 3ms/step - loss: 4.4671 - accuracy: 0.0000e+00 - val_loss: 3.6396 - val_accuracy: 0.0000e+00\n",
      "Epoch 12/100\n",
      "21727/21727 [==============================] - 57s 3ms/step - loss: 4.0757 - accuracy: 0.0000e+00 - val_loss: 3.5839 - val_accuracy: 0.0000e+00\n",
      "Epoch 13/100\n",
      "21727/21727 [==============================] - 44s 2ms/step - loss: 3.8911 - accuracy: 0.0000e+00 - val_loss: 3.0098 - val_accuracy: 0.0000e+00\n",
      "Epoch 14/100\n",
      "21727/21727 [==============================] - 43s 2ms/step - loss: 3.6809 - accuracy: 0.0000e+00 - val_loss: 5.0394 - val_accuracy: 0.0000e+00\n",
      "Epoch 15/100\n",
      "21727/21727 [==============================] - 45s 2ms/step - loss: 3.5757 - accuracy: 0.0000e+00 - val_loss: 3.2965 - val_accuracy: 0.0000e+00\n",
      "Epoch 16/100\n",
      "21727/21727 [==============================] - 39s 2ms/step - loss: 3.4168 - accuracy: 0.0000e+00 - val_loss: 3.9714 - val_accuracy: 0.0000e+00\n",
      "Epoch 17/100\n",
      "21727/21727 [==============================] - 39s 2ms/step - loss: 3.3420 - accuracy: 0.0000e+00 - val_loss: 2.8821 - val_accuracy: 0.0000e+00\n",
      "Epoch 18/100\n",
      "21727/21727 [==============================] - 39s 2ms/step - loss: 3.1491 - accuracy: 0.0000e+00 - val_loss: 2.2506 - val_accuracy: 0.0000e+00\n",
      "Epoch 19/100\n",
      "21727/21727 [==============================] - 43s 2ms/step - loss: 3.0871 - accuracy: 0.0000e+00 - val_loss: 2.0519 - val_accuracy: 0.0000e+00\n",
      "Epoch 20/100\n",
      "21727/21727 [==============================] - 47s 2ms/step - loss: 3.0569 - accuracy: 0.0000e+00 - val_loss: 2.4005 - val_accuracy: 0.0000e+00\n",
      "Epoch 21/100\n",
      "21727/21727 [==============================] - 39s 2ms/step - loss: 2.9558 - accuracy: 0.0000e+00 - val_loss: 2.0724 - val_accuracy: 0.0000e+00\n",
      "Epoch 22/100\n",
      "21727/21727 [==============================] - 39s 2ms/step - loss: 2.9544 - accuracy: 0.0000e+00 - val_loss: 5.8452 - val_accuracy: 0.0000e+00\n",
      "Epoch 23/100\n",
      "21727/21727 [==============================] - 39s 2ms/step - loss: 2.8975 - accuracy: 0.0000e+00 - val_loss: 1.8522 - val_accuracy: 0.0000e+00\n",
      "Epoch 24/100\n",
      "21727/21727 [==============================] - 39s 2ms/step - loss: 2.8991 - accuracy: 0.0000e+00 - val_loss: 1.8095 - val_accuracy: 0.0000e+00\n",
      "Epoch 25/100\n",
      "21727/21727 [==============================] - 39s 2ms/step - loss: 2.8335 - accuracy: 0.0000e+00 - val_loss: 3.9685 - val_accuracy: 0.0000e+00\n",
      "Epoch 26/100\n",
      "21727/21727 [==============================] - 41s 2ms/step - loss: 2.8052 - accuracy: 0.0000e+00 - val_loss: 2.4149 - val_accuracy: 0.0000e+00\n",
      "Epoch 27/100\n",
      "21727/21727 [==============================] - 39s 2ms/step - loss: 2.8078 - accuracy: 0.0000e+00 - val_loss: 2.0122 - val_accuracy: 0.0000e+00\n",
      "Epoch 28/100\n",
      "21727/21727 [==============================] - 39s 2ms/step - loss: 2.8068 - accuracy: 0.0000e+00 - val_loss: 3.0646 - val_accuracy: 0.0000e+00\n",
      "Epoch 29/100\n",
      "21727/21727 [==============================] - 35s 2ms/step - loss: 2.7462 - accuracy: 0.0000e+00 - val_loss: 1.8054 - val_accuracy: 0.0000e+00\n",
      "Epoch 30/100\n",
      "21727/21727 [==============================] - 29s 1ms/step - loss: 2.7555 - accuracy: 0.0000e+00 - val_loss: 3.3157 - val_accuracy: 0.0000e+00\n",
      "Epoch 31/100\n",
      "21727/21727 [==============================] - 29s 1ms/step - loss: 2.7268 - accuracy: 0.0000e+00 - val_loss: 4.5855 - val_accuracy: 0.0000e+00\n",
      "Epoch 32/100\n",
      "21727/21727 [==============================] - 29s 1ms/step - loss: 2.7503 - accuracy: 0.0000e+00 - val_loss: 2.8644 - val_accuracy: 0.0000e+00\n",
      "Epoch 33/100\n",
      "21727/21727 [==============================] - 29s 1ms/step - loss: 2.6994 - accuracy: 0.0000e+00 - val_loss: 1.6228 - val_accuracy: 0.0000e+00\n",
      "Epoch 34/100\n",
      "21727/21727 [==============================] - 28s 1ms/step - loss: 2.6287 - accuracy: 0.0000e+00 - val_loss: 2.3698 - val_accuracy: 0.0000e+00\n",
      "Epoch 35/100\n",
      "21727/21727 [==============================] - 31s 1ms/step - loss: 2.6411 - accuracy: 0.0000e+00 - val_loss: 1.6019 - val_accuracy: 0.0000e+00\n",
      "Epoch 36/100\n",
      "21727/21727 [==============================] - 30s 1ms/step - loss: 2.5912 - accuracy: 0.0000e+00 - val_loss: 1.9218 - val_accuracy: 0.0000e+00\n",
      "Epoch 37/100\n",
      "21727/21727 [==============================] - 28s 1ms/step - loss: 2.6116 - accuracy: 0.0000e+00 - val_loss: 2.9609 - val_accuracy: 0.0000e+00\n",
      "Epoch 38/100\n",
      "21727/21727 [==============================] - 29s 1ms/step - loss: 2.5497 - accuracy: 0.0000e+00 - val_loss: 2.5381 - val_accuracy: 0.0000e+00\n",
      "Epoch 39/100\n",
      "21727/21727 [==============================] - 28s 1ms/step - loss: 2.5601 - accuracy: 0.0000e+00 - val_loss: 1.7839 - val_accuracy: 0.0000e+00\n",
      "Epoch 40/100\n",
      "21727/21727 [==============================] - 28s 1ms/step - loss: 2.4972 - accuracy: 0.0000e+00 - val_loss: 2.6251 - val_accuracy: 0.0000e+00\n",
      "Epoch 41/100\n",
      "21727/21727 [==============================] - 28s 1ms/step - loss: 2.5549 - accuracy: 0.0000e+00 - val_loss: 2.7291 - val_accuracy: 0.0000e+00\n",
      "Epoch 42/100\n",
      "21727/21727 [==============================] - 28s 1ms/step - loss: 2.4910 - accuracy: 0.0000e+00 - val_loss: 2.1500 - val_accuracy: 0.0000e+00\n",
      "Epoch 43/100\n",
      "21727/21727 [==============================] - 29s 1ms/step - loss: 2.5496 - accuracy: 0.0000e+00 - val_loss: 2.0219 - val_accuracy: 0.0000e+00\n",
      "Epoch 44/100\n",
      "21727/21727 [==============================] - 29s 1ms/step - loss: 2.4617 - accuracy: 0.0000e+00 - val_loss: 1.7424 - val_accuracy: 0.0000e+00\n",
      "Epoch 45/100\n",
      "21727/21727 [==============================] - 28s 1ms/step - loss: 2.5203 - accuracy: 0.0000e+00 - val_loss: 1.8891 - val_accuracy: 0.0000e+00\n",
      "Epoch 46/100\n",
      "21727/21727 [==============================] - 28s 1ms/step - loss: 2.4416 - accuracy: 0.0000e+00 - val_loss: 1.5699 - val_accuracy: 0.0000e+00\n",
      "Epoch 47/100\n",
      "21727/21727 [==============================] - 29s 1ms/step - loss: 2.4445 - accuracy: 0.0000e+00 - val_loss: 4.5094 - val_accuracy: 0.0000e+00\n",
      "Epoch 48/100\n",
      "21727/21727 [==============================] - 29s 1ms/step - loss: 2.4208 - accuracy: 0.0000e+00 - val_loss: 1.5729 - val_accuracy: 0.0000e+00\n",
      "Epoch 49/100\n",
      "21727/21727 [==============================] - 33s 1ms/step - loss: 2.3786 - accuracy: 0.0000e+00 - val_loss: 1.7287 - val_accuracy: 0.0000e+00\n",
      "Epoch 50/100\n",
      "21727/21727 [==============================] - 32s 1ms/step - loss: 2.4357 - accuracy: 0.0000e+00 - val_loss: 1.6536 - val_accuracy: 0.0000e+00\n",
      "Epoch 51/100\n",
      "21727/21727 [==============================] - 29s 1ms/step - loss: 2.4085 - accuracy: 0.0000e+00 - val_loss: 2.0471 - val_accuracy: 0.0000e+00\n",
      "Epoch 52/100\n",
      "21727/21727 [==============================] - 29s 1ms/step - loss: 2.3925 - accuracy: 0.0000e+00 - val_loss: 1.7909 - val_accuracy: 0.0000e+00\n",
      "Epoch 53/100\n",
      "21727/21727 [==============================] - 29s 1ms/step - loss: 2.3814 - accuracy: 0.0000e+00 - val_loss: 1.7890 - val_accuracy: 0.0000e+00\n",
      "Epoch 54/100\n",
      "21727/21727 [==============================] - 30s 1ms/step - loss: 2.3719 - accuracy: 0.0000e+00 - val_loss: 1.7418 - val_accuracy: 0.0000e+00\n",
      "Epoch 55/100\n",
      "21727/21727 [==============================] - 30s 1ms/step - loss: 2.3599 - accuracy: 0.0000e+00 - val_loss: 1.8085 - val_accuracy: 0.0000e+00\n",
      "Epoch 56/100\n",
      "21727/21727 [==============================] - 29s 1ms/step - loss: 2.3443 - accuracy: 0.0000e+00 - val_loss: 1.8023 - val_accuracy: 0.0000e+00\n",
      "Epoch 57/100\n",
      "21727/21727 [==============================] - 28s 1ms/step - loss: 2.3595 - accuracy: 0.0000e+00 - val_loss: 2.6160 - val_accuracy: 0.0000e+00\n",
      "Epoch 58/100\n",
      "21727/21727 [==============================] - 29s 1ms/step - loss: 2.3719 - accuracy: 0.0000e+00 - val_loss: 1.4909 - val_accuracy: 0.0000e+00\n",
      "Epoch 59/100\n",
      "21727/21727 [==============================] - 29s 1ms/step - loss: 2.3526 - accuracy: 0.0000e+00 - val_loss: 1.4414 - val_accuracy: 0.0000e+00\n",
      "Epoch 60/100\n",
      "21727/21727 [==============================] - 30s 1ms/step - loss: 2.3355 - accuracy: 0.0000e+00 - val_loss: 1.4425 - val_accuracy: 0.0000e+00\n",
      "Epoch 61/100\n",
      "21727/21727 [==============================] - 29s 1ms/step - loss: 2.2800 - accuracy: 0.0000e+00 - val_loss: 8.9591 - val_accuracy: 0.0000e+00\n",
      "Epoch 62/100\n",
      "21727/21727 [==============================] - 30s 1ms/step - loss: 2.3367 - accuracy: 0.0000e+00 - val_loss: 1.4201 - val_accuracy: 0.0000e+00\n",
      "Epoch 63/100\n",
      "21727/21727 [==============================] - 29s 1ms/step - loss: 2.3045 - accuracy: 0.0000e+00 - val_loss: 1.6127 - val_accuracy: 0.0000e+00\n",
      "Epoch 64/100\n",
      "21727/21727 [==============================] - 30s 1ms/step - loss: 2.3186 - accuracy: 0.0000e+00 - val_loss: 2.7793 - val_accuracy: 0.0000e+00\n",
      "Epoch 65/100\n",
      "21727/21727 [==============================] - 30s 1ms/step - loss: 2.3270 - accuracy: 0.0000e+00 - val_loss: 1.6152 - val_accuracy: 0.0000e+00\n",
      "Epoch 66/100\n",
      "21727/21727 [==============================] - 29s 1ms/step - loss: 2.3142 - accuracy: 0.0000e+00 - val_loss: 1.5743 - val_accuracy: 0.0000e+00\n",
      "Epoch 67/100\n",
      "21727/21727 [==============================] - 29s 1ms/step - loss: 2.2921 - accuracy: 0.0000e+00 - val_loss: 1.4405 - val_accuracy: 0.0000e+00\n",
      "Epoch 68/100\n",
      "21727/21727 [==============================] - 29s 1ms/step - loss: 2.2867 - accuracy: 0.0000e+00 - val_loss: 1.2707 - val_accuracy: 0.0000e+00\n",
      "Epoch 69/100\n",
      "21727/21727 [==============================] - 32s 1ms/step - loss: 2.2767 - accuracy: 0.0000e+00 - val_loss: 1.5815 - val_accuracy: 0.0000e+00\n",
      "Epoch 70/100\n",
      "21727/21727 [==============================] - 33s 2ms/step - loss: 2.2850 - accuracy: 0.0000e+00 - val_loss: 1.3172 - val_accuracy: 0.0000e+00\n",
      "Epoch 71/100\n",
      "21727/21727 [==============================] - 31s 1ms/step - loss: 2.2735 - accuracy: 0.0000e+00 - val_loss: 1.4118 - val_accuracy: 0.0000e+00\n",
      "Epoch 72/100\n",
      "21727/21727 [==============================] - 29s 1ms/step - loss: 2.2704 - accuracy: 0.0000e+00 - val_loss: 1.3349 - val_accuracy: 0.0000e+00\n",
      "Epoch 73/100\n",
      "21727/21727 [==============================] - 29s 1ms/step - loss: 2.3057 - accuracy: 0.0000e+00 - val_loss: 1.7457 - val_accuracy: 0.0000e+00\n",
      "Epoch 74/100\n",
      "21727/21727 [==============================] - 29s 1ms/step - loss: 2.2308 - accuracy: 0.0000e+00 - val_loss: 1.2681 - val_accuracy: 0.0000e+00\n",
      "Epoch 75/100\n",
      "21727/21727 [==============================] - 30s 1ms/step - loss: 2.2157 - accuracy: 0.0000e+00 - val_loss: 1.8189 - val_accuracy: 0.0000e+00\n",
      "Epoch 76/100\n",
      "21727/21727 [==============================] - 33s 2ms/step - loss: 2.2578 - accuracy: 0.0000e+00 - val_loss: 1.7998 - val_accuracy: 0.0000e+00\n",
      "Epoch 77/100\n",
      "21727/21727 [==============================] - 29s 1ms/step - loss: 2.2425 - accuracy: 0.0000e+00 - val_loss: 1.7653 - val_accuracy: 0.0000e+00\n",
      "Epoch 78/100\n",
      "21727/21727 [==============================] - 29s 1ms/step - loss: 2.2127 - accuracy: 0.0000e+00 - val_loss: 1.7853 - val_accuracy: 0.0000e+00\n",
      "Epoch 79/100\n",
      "21727/21727 [==============================] - 29s 1ms/step - loss: 2.1983 - accuracy: 0.0000e+00 - val_loss: 3.1612 - val_accuracy: 0.0000e+00\n",
      "Epoch 80/100\n",
      "21727/21727 [==============================] - 29s 1ms/step - loss: 2.1926 - accuracy: 0.0000e+00 - val_loss: 1.8060 - val_accuracy: 0.0000e+00\n",
      "Epoch 81/100\n",
      "21727/21727 [==============================] - 29s 1ms/step - loss: 2.1957 - accuracy: 0.0000e+00 - val_loss: 2.3911 - val_accuracy: 0.0000e+00\n",
      "Epoch 82/100\n",
      "21727/21727 [==============================] - 29s 1ms/step - loss: 2.2147 - accuracy: 0.0000e+00 - val_loss: 1.2929 - val_accuracy: 0.0000e+00\n",
      "Epoch 83/100\n",
      "21727/21727 [==============================] - 29s 1ms/step - loss: 2.2110 - accuracy: 0.0000e+00 - val_loss: 1.4067 - val_accuracy: 0.0000e+00\n",
      "Epoch 84/100\n",
      "21727/21727 [==============================] - 29s 1ms/step - loss: 2.2369 - accuracy: 0.0000e+00 - val_loss: 1.2548 - val_accuracy: 0.0000e+00\n",
      "Epoch 85/100\n",
      "21727/21727 [==============================] - 29s 1ms/step - loss: 2.1987 - accuracy: 0.0000e+00 - val_loss: 1.2777 - val_accuracy: 0.0000e+00\n",
      "Epoch 86/100\n",
      "21727/21727 [==============================] - 30s 1ms/step - loss: 2.2023 - accuracy: 0.0000e+00 - val_loss: 2.1269 - val_accuracy: 0.0000e+00\n",
      "Epoch 87/100\n",
      "21727/21727 [==============================] - 29s 1ms/step - loss: 2.2207 - accuracy: 0.0000e+00 - val_loss: 3.0855 - val_accuracy: 0.0000e+00\n",
      "Epoch 88/100\n",
      "21727/21727 [==============================] - 28s 1ms/step - loss: 2.1482 - accuracy: 0.0000e+00 - val_loss: 1.5490 - val_accuracy: 0.0000e+00\n",
      "Epoch 89/100\n",
      "21727/21727 [==============================] - 29s 1ms/step - loss: 2.1865 - accuracy: 0.0000e+00 - val_loss: 1.3433 - val_accuracy: 0.0000e+00\n",
      "Epoch 90/100\n",
      "21727/21727 [==============================] - 29s 1ms/step - loss: 2.1857 - accuracy: 0.0000e+00 - val_loss: 1.6000 - val_accuracy: 0.0000e+00\n",
      "Epoch 91/100\n",
      "21727/21727 [==============================] - 29s 1ms/step - loss: 2.1554 - accuracy: 0.0000e+00 - val_loss: 1.5873 - val_accuracy: 0.0000e+00\n",
      "Epoch 92/100\n",
      "21727/21727 [==============================] - 30s 1ms/step - loss: 2.1890 - accuracy: 0.0000e+00 - val_loss: 4.9207 - val_accuracy: 0.0000e+00\n",
      "Epoch 93/100\n",
      "21727/21727 [==============================] - 30s 1ms/step - loss: 2.1640 - accuracy: 0.0000e+00 - val_loss: 1.7786 - val_accuracy: 0.0000e+00\n",
      "Epoch 94/100\n",
      "21727/21727 [==============================] - 29s 1ms/step - loss: 2.1548 - accuracy: 0.0000e+00 - val_loss: 1.2694 - val_accuracy: 0.0000e+00\n",
      "Epoch 95/100\n",
      "21727/21727 [==============================] - 29s 1ms/step - loss: 2.1669 - accuracy: 0.0000e+00 - val_loss: 2.2052 - val_accuracy: 0.0000e+00\n",
      "Epoch 96/100\n",
      "21727/21727 [==============================] - 29s 1ms/step - loss: 2.1933 - accuracy: 0.0000e+00 - val_loss: 1.3212 - val_accuracy: 0.0000e+00\n",
      "Epoch 97/100\n",
      "21727/21727 [==============================] - 29s 1ms/step - loss: 2.1265 - accuracy: 0.0000e+00 - val_loss: 1.4432 - val_accuracy: 0.0000e+00\n",
      "Epoch 98/100\n",
      "21727/21727 [==============================] - 29s 1ms/step - loss: 2.1747 - accuracy: 0.0000e+00 - val_loss: 3.0124 - val_accuracy: 0.0000e+00\n",
      "Epoch 99/100\n",
      "21727/21727 [==============================] - 29s 1ms/step - loss: 2.1705 - accuracy: 0.0000e+00 - val_loss: 1.3659 - val_accuracy: 0.0000e+00\n",
      "Epoch 100/100\n",
      "21727/21727 [==============================] - 29s 1ms/step - loss: 2.1203 - accuracy: 0.0000e+00 - val_loss: 1.2465 - val_accuracy: 0.0000e+00\n"
     ]
    }
   ],
   "source": [
    "x_inp = numpy.asarray(x_inp).astype(numpy.float32)\n",
    "y_inp = numpy.asarray(y_inp).astype(numpy.float32)\n",
    "\n",
    "# Training\n",
    "\n",
    "classifier.compile(optimizer = 'adam', loss = 'mean_squared_error', metrics = ['accuracy'])\n",
    "\n",
    "history=classifier.fit(x_inp, y_inp, batch_size = 10, epochs = 100, validation_data=(x_test,y_test))"
   ]
  },
  {
   "cell_type": "code",
   "execution_count": 14,
   "id": "f96fcb20",
   "metadata": {},
   "outputs": [
    {
     "data": {
      "text/plain": [
       "array([ -9.114005 ,  -7.68302  ,  -2.8562562, ...,  -9.280735 ,\n",
       "       -22.645018 , -11.399168 ], dtype=float32)"
      ]
     },
     "execution_count": 14,
     "metadata": {},
     "output_type": "execute_result"
    }
   ],
   "source": [
    "y_inp"
   ]
  },
  {
   "cell_type": "code",
   "execution_count": 15,
   "id": "1f1cab50",
   "metadata": {},
   "outputs": [
    {
     "data": {
      "image/png": "[encoded data removed]",
      "text/plain": [
       "<Figure size 432x288 with 1 Axes>"
      ]
     },
     "metadata": {
      "needs_background": "light"
     },
     "output_type": "display_data"
    },
    {
     "data": {
      "image/png": "[encoded data removed]",
      "text/plain": [
       "<Figure size 432x288 with 1 Axes>"
      ]
     },
     "metadata": {
      "needs_background": "light"
     },
     "output_type": "display_data"
    },
    {
     "data": {
      "image/png": "[encoded data removed]",
      "text/plain": [
       "<Figure size 432x288 with 1 Axes>"
      ]
     },
     "metadata": {
      "needs_background": "light"
     },
     "output_type": "display_data"
    }
   ],
   "source": [
    "# Prediction\n",
    "\n",
    "from sklearn.metrics import mean_squared_error\n",
    "from sklearn.metrics import r2_score\n",
    "import matplotlib.pyplot as plt\n",
    "\n",
    "y_pred = classifier.predict(x_test)\n",
    "mean_squared_error(y_test,y_pred)\n",
    "r2_score(y_test, y_pred)\n",
    "\n",
    "plt.plot(history.history['loss'])\n",
    "plt.title('Model Loss')\n",
    "plt.ylabel('LOSS')\n",
    "plt.xlabel('EPOCH')\n",
    "plt.legend(['train'], loc='upper left')\n",
    "plt.show()\n",
    "\n",
    "plt.plot(history.history['val_loss'])\n",
    "plt.title('Model Validation Loss')\n",
    "plt.ylabel('VAL LOSS')\n",
    "plt.xlabel('EPOCH')\n",
    "plt.legend(['train'], loc='upper left')\n",
    "plt.show()\n",
    "\n",
    "def generatePredictionPlot(y_pred, y_test):\n",
    "    plt.scatter(x=y_test, y=y_pred, c='navy', alpha=0.6)\n",
    "    plt.plot(y_test, y_test,color='cyan')\n",
    "    plt.title('Predicted vs Actual values')\n",
    "    plt.xlabel('Actual values')\n",
    "    plt.ylabel('Predicted values')\n",
    "    plt.show()\n",
    "    \n",
    "generatePredictionPlot(y_pred, y_test)"
   ]
  },
  {
   "cell_type": "code",
   "execution_count": 16,
   "id": "8089312b",
   "metadata": {},
   "outputs": [
    {
     "data": {
      "text/plain": [
       "1.246470754616813"
      ]
     },
     "execution_count": 16,
     "metadata": {},
     "output_type": "execute_result"
    }
   ],
   "source": [
    "mean_squared_error(y_test,y_pred)"
   ]
  },
  {
   "cell_type": "code",
   "execution_count": 17,
   "id": "1c950c4f",
   "metadata": {},
   "outputs": [
    {
     "data": {
      "text/plain": [
       "0.9677333624104543"
      ]
     },
     "execution_count": 17,
     "metadata": {},
     "output_type": "execute_result"
    }
   ],
   "source": [
    "r2_score(y_test, y_pred)"
   ]
  },
  {
   "cell_type": "code",
   "execution_count": 27,
   "id": "4bc64f81",
   "metadata": {},
   "outputs": [],
   "source": [
    "filename = \"PKI_KBNN.h5\"\n",
    "classifier.save(filename)"
   ]
  },
  {
   "cell_type": "code",
   "execution_count": 28,
   "id": "5d677957",
   "metadata": {},
   "outputs": [
    {
     "data": {
      "text/plain": [
       "array([[-11.8382845]], dtype=float32)"
      ]
     },
     "execution_count": 28,
     "metadata": {},
     "output_type": "execute_result"
    }
   ],
   "source": [
    "#HFSS result = -11.69\n",
    "\n",
    "data=[]\n",
    "data.append([5.91,13.47,8.2,4.9])\n",
    "y_pr = classifier.predict(data)\n",
    "y_pr"
   ]
  },
  {
   "cell_type": "code",
   "execution_count": 29,
   "id": "a1fe4476",
   "metadata": {},
   "outputs": [
    {
     "data": {
      "text/plain": [
       "array([[-16.897484]], dtype=float32)"
      ]
     },
     "execution_count": 29,
     "metadata": {},
     "output_type": "execute_result"
    }
   ],
   "source": [
    "#HFSS result = -16.52\n",
    "\n",
    "data=[]\n",
    "data.append([5.4,14.75,8.25,5.2])\n",
    "y_pr = classifier.predict(data)\n",
    "y_pr"
   ]
  },
  {
   "cell_type": "code",
   "execution_count": null,
   "id": "822a2c5e",
   "metadata": {},
   "outputs": [],
   "source": []
  }
 ],
 "metadata": {
  "kernelspec": {
   "display_name": "Python 3 (ipykernel)",
   "language": "python",
   "name": "python3"
  },
  "language_info": {
   "codemirror_mode": {
    "name": "ipython",
    "version": 3
   },
   "file_extension": ".py",
   "mimetype": "text/x-python",
   "name": "python",
   "nbconvert_exporter": "python",
   "pygments_lexer": "ipython3",
   "version": "3.8.8"
  }
 },
 "nbformat": 4,
 "nbformat_minor": 5
}
